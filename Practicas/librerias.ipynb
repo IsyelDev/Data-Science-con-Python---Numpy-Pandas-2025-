{
 "cells": [
  {
   "cell_type": "code",
   "execution_count": 6,
   "id": "2c1c0846",
   "metadata": {},
   "outputs": [],
   "source": [
    "import numpy as np\n",
    "import matplotlib.pyplot as plt\n",
    "import pandas as pd\n",
    "import chardet"
   ]
  },
  {
   "cell_type": "code",
   "execution_count": 14,
   "id": "99baee01",
   "metadata": {},
   "outputs": [
    {
     "name": "stdout",
     "output_type": "stream",
     "text": [
      "{'encoding': 'ISO-8859-1', 'confidence': 0.73, 'language': ''}\n"
     ]
    }
   ],
   "source": [
    "with open(r\"../Datasets+Data+Science+con+Python+-+Pandas/1.3/Info_pais.csv\",\"rb\") as file:\n",
    "    resultado = chardet.detect(file.read())\n",
    "    print(resultado)"
   ]
  },
  {
   "cell_type": "code",
   "execution_count": 34,
   "id": "004e766f",
   "metadata": {},
   "outputs": [
    {
     "data": {
      "text/html": [
       "<div>\n",
       "<style scoped>\n",
       "    .dataframe tbody tr th:only-of-type {\n",
       "        vertical-align: middle;\n",
       "    }\n",
       "\n",
       "    .dataframe tbody tr th {\n",
       "        vertical-align: top;\n",
       "    }\n",
       "\n",
       "    .dataframe thead th {\n",
       "        text-align: right;\n",
       "    }\n",
       "</style>\n",
       "<table border=\"1\" class=\"dataframe\">\n",
       "  <thead>\n",
       "    <tr style=\"text-align: right;\">\n",
       "      <th></th>\n",
       "      <th>Poblacion</th>\n",
       "      <th>Renta per capita</th>\n",
       "      <th>Esperanza de vida</th>\n",
       "    </tr>\n",
       "    <tr>\n",
       "      <th>País</th>\n",
       "      <th></th>\n",
       "      <th></th>\n",
       "      <th></th>\n",
       "    </tr>\n",
       "  </thead>\n",
       "  <tbody>\n",
       "    <tr>\n",
       "      <th>United States</th>\n",
       "      <td>325084756</td>\n",
       "      <td>59939</td>\n",
       "      <td>78,9</td>\n",
       "    </tr>\n",
       "    <tr>\n",
       "      <th>China</th>\n",
       "      <td>1421021791</td>\n",
       "      <td>8612</td>\n",
       "      <td>76,7</td>\n",
       "    </tr>\n",
       "    <tr>\n",
       "      <th>Japan</th>\n",
       "      <td>127502725</td>\n",
       "      <td>38214</td>\n",
       "      <td>84,5</td>\n",
       "    </tr>\n",
       "    <tr>\n",
       "      <th>Germany</th>\n",
       "      <td>82658409</td>\n",
       "      <td>44680</td>\n",
       "      <td>81,2</td>\n",
       "    </tr>\n",
       "    <tr>\n",
       "      <th>India</th>\n",
       "      <td>1338676785</td>\n",
       "      <td>1980</td>\n",
       "      <td>69,4</td>\n",
       "    </tr>\n",
       "  </tbody>\n",
       "</table>\n",
       "</div>"
      ],
      "text/plain": [
       "                Poblacion  Renta per capita Esperanza de vida\n",
       "País                                                         \n",
       "United States   325084756             59939              78,9\n",
       "China          1421021791              8612              76,7\n",
       "Japan           127502725             38214              84,5\n",
       "Germany          82658409             44680              81,2\n",
       "India          1338676785              1980              69,4"
      ]
     },
     "execution_count": 34,
     "metadata": {},
     "output_type": "execute_result"
    }
   ],
   "source": [
    "poblacion = pd.read_csv(r\"../Datasets+Data+Science+con+Python+-+Pandas/1.3/Info_pais.csv\" ,index_col=0 , nrows=5,encoding=\"ISO-8859-1\" , delimiter=\";\" )\n",
    "poblacion"
   ]
  },
  {
   "cell_type": "code",
   "execution_count": 35,
   "id": "1dd9bb9d",
   "metadata": {},
   "outputs": [
    {
     "data": {
      "text/html": [
       "<div>\n",
       "<style scoped>\n",
       "    .dataframe tbody tr th:only-of-type {\n",
       "        vertical-align: middle;\n",
       "    }\n",
       "\n",
       "    .dataframe tbody tr th {\n",
       "        vertical-align: top;\n",
       "    }\n",
       "\n",
       "    .dataframe thead th {\n",
       "        text-align: right;\n",
       "    }\n",
       "</style>\n",
       "<table border=\"1\" class=\"dataframe\">\n",
       "  <thead>\n",
       "    <tr style=\"text-align: right;\">\n",
       "      <th></th>\n",
       "      <th>Poblacion</th>\n",
       "      <th>Renta per capita</th>\n",
       "      <th>Esperanza de vida</th>\n",
       "    </tr>\n",
       "    <tr>\n",
       "      <th>País</th>\n",
       "      <th></th>\n",
       "      <th></th>\n",
       "      <th></th>\n",
       "    </tr>\n",
       "  </thead>\n",
       "  <tbody>\n",
       "    <tr>\n",
       "      <th>India</th>\n",
       "      <td>1338676785</td>\n",
       "      <td>1980</td>\n",
       "      <td>69,4</td>\n",
       "    </tr>\n",
       "    <tr>\n",
       "      <th>China</th>\n",
       "      <td>1421021791</td>\n",
       "      <td>8612</td>\n",
       "      <td>76,7</td>\n",
       "    </tr>\n",
       "    <tr>\n",
       "      <th>United States</th>\n",
       "      <td>325084756</td>\n",
       "      <td>59939</td>\n",
       "      <td>78,9</td>\n",
       "    </tr>\n",
       "    <tr>\n",
       "      <th>Germany</th>\n",
       "      <td>82658409</td>\n",
       "      <td>44680</td>\n",
       "      <td>81,2</td>\n",
       "    </tr>\n",
       "    <tr>\n",
       "      <th>Japan</th>\n",
       "      <td>127502725</td>\n",
       "      <td>38214</td>\n",
       "      <td>84,5</td>\n",
       "    </tr>\n",
       "  </tbody>\n",
       "</table>\n",
       "</div>"
      ],
      "text/plain": [
       "                Poblacion  Renta per capita Esperanza de vida\n",
       "País                                                         \n",
       "India          1338676785              1980              69,4\n",
       "China          1421021791              8612              76,7\n",
       "United States   325084756             59939              78,9\n",
       "Germany          82658409             44680              81,2\n",
       "Japan           127502725             38214              84,5"
      ]
     },
     "execution_count": 35,
     "metadata": {},
     "output_type": "execute_result"
    }
   ],
   "source": [
    "df_ordenamiento = poblacion.sort_values(\"Esperanza de vida\", ascending=True)\n",
    "df_ordenamiento"
   ]
  },
  {
   "cell_type": "code",
   "execution_count": 36,
   "id": "86acb521",
   "metadata": {},
   "outputs": [
    {
     "data": {
      "text/plain": [
       "<matplotlib.collections.PathCollection at 0x20abc72a1b0>"
      ]
     },
     "execution_count": 36,
     "metadata": {},
     "output_type": "execute_result"
    },
    {
     "data": {
      "image/png": "[encoded data removed]",
      "text/plain": [
       "<Figure size 640x480 with 1 Axes>"
      ]
     },
     "metadata": {},
     "output_type": "display_data"
    }
   ],
   "source": [
    "plt.scatter(df_ordenamiento[\"Renta per capita\"], df_ordenamiento[\"Esperanza de vida\"])"
   ]
  },
  {
   "cell_type": "code",
   "execution_count": 42,
   "id": "a6cf34c5",
   "metadata": {},
   "outputs": [],
   "source": [
    "paises = pd.DataFrame(\n",
    "[\n",
    "[1,\"México\",126000000,1970000],\n",
    "[2,\"Argentina\",45000000,2780000],\n",
    "[3,\"Chile\",19000000,756000],\n",
    "[4,\"Brasil\",213000000,8510000],\n",
    "[5,\"Perú\",33000000,1285000]\n",
    "],\n",
    "columns=[\"ID\",\"País\",\"Población\",\"Área\"])"
   ]
  },
  {
   "cell_type": "code",
   "execution_count": 43,
   "id": "4ff26a46",
   "metadata": {},
   "outputs": [
    {
     "data": {
      "text/html": [
       "<div>\n",
       "<style scoped>\n",
       "    .dataframe tbody tr th:only-of-type {\n",
       "        vertical-align: middle;\n",
       "    }\n",
       "\n",
       "    .dataframe tbody tr th {\n",
       "        vertical-align: top;\n",
       "    }\n",
       "\n",
       "    .dataframe thead th {\n",
       "        text-align: right;\n",
       "    }\n",
       "</style>\n",
       "<table border=\"1\" class=\"dataframe\">\n",
       "  <thead>\n",
       "    <tr style=\"text-align: right;\">\n",
       "      <th></th>\n",
       "      <th>ID</th>\n",
       "      <th>País</th>\n",
       "      <th>Población</th>\n",
       "      <th>Área</th>\n",
       "    </tr>\n",
       "  </thead>\n",
       "  <tbody>\n",
       "    <tr>\n",
       "      <th>0</th>\n",
       "      <td>1</td>\n",
       "      <td>México</td>\n",
       "      <td>126000000</td>\n",
       "      <td>1970000</td>\n",
       "    </tr>\n",
       "    <tr>\n",
       "      <th>1</th>\n",
       "      <td>2</td>\n",
       "      <td>Argentina</td>\n",
       "      <td>45000000</td>\n",
       "      <td>2780000</td>\n",
       "    </tr>\n",
       "    <tr>\n",
       "      <th>2</th>\n",
       "      <td>3</td>\n",
       "      <td>Chile</td>\n",
       "      <td>19000000</td>\n",
       "      <td>756000</td>\n",
       "    </tr>\n",
       "    <tr>\n",
       "      <th>3</th>\n",
       "      <td>4</td>\n",
       "      <td>Brasil</td>\n",
       "      <td>213000000</td>\n",
       "      <td>8510000</td>\n",
       "    </tr>\n",
       "    <tr>\n",
       "      <th>4</th>\n",
       "      <td>5</td>\n",
       "      <td>Perú</td>\n",
       "      <td>33000000</td>\n",
       "      <td>1285000</td>\n",
       "    </tr>\n",
       "  </tbody>\n",
       "</table>\n",
       "</div>"
      ],
      "text/plain": [
       "   ID       País  Población     Área\n",
       "0   1     México  126000000  1970000\n",
       "1   2  Argentina   45000000  2780000\n",
       "2   3      Chile   19000000   756000\n",
       "3   4     Brasil  213000000  8510000\n",
       "4   5       Perú   33000000  1285000"
      ]
     },
     "execution_count": 43,
     "metadata": {},
     "output_type": "execute_result"
    }
   ],
   "source": [
    "paises"
   ]
  },
  {
   "cell_type": "code",
   "execution_count": 75,
   "id": "045d7ea6",
   "metadata": {},
   "outputs": [
    {
     "data": {
      "text/html": [
       "<div>\n",
       "<style scoped>\n",
       "    .dataframe tbody tr th:only-of-type {\n",
       "        vertical-align: middle;\n",
       "    }\n",
       "\n",
       "    .dataframe tbody tr th {\n",
       "        vertical-align: top;\n",
       "    }\n",
       "\n",
       "    .dataframe thead th {\n",
       "        text-align: right;\n",
       "    }\n",
       "</style>\n",
       "<table border=\"1\" class=\"dataframe\">\n",
       "  <thead>\n",
       "    <tr style=\"text-align: right;\">\n",
       "      <th></th>\n",
       "      <th>ID</th>\n",
       "      <th>Pais</th>\n",
       "      <th>Poblacion</th>\n",
       "      <th>Area</th>\n",
       "    </tr>\n",
       "  </thead>\n",
       "  <tbody>\n",
       "    <tr>\n",
       "      <th>0</th>\n",
       "      <td>1</td>\n",
       "      <td>México</td>\n",
       "      <td>126000000</td>\n",
       "      <td>1970000</td>\n",
       "    </tr>\n",
       "    <tr>\n",
       "      <th>1</th>\n",
       "      <td>2</td>\n",
       "      <td>Colombia</td>\n",
       "      <td>51000000</td>\n",
       "      <td>1140000</td>\n",
       "    </tr>\n",
       "    <tr>\n",
       "      <th>2</th>\n",
       "      <td>3</td>\n",
       "      <td>Venezuela</td>\n",
       "      <td>28000000</td>\n",
       "      <td>916000</td>\n",
       "    </tr>\n",
       "  </tbody>\n",
       "</table>\n",
       "</div>"
      ],
      "text/plain": [
       "   ID       Pais  Poblacion     Area\n",
       "0   1     México  126000000  1970000\n",
       "1   2   Colombia   51000000  1140000\n",
       "2   3  Venezuela   28000000   916000"
      ]
     },
     "execution_count": 75,
     "metadata": {},
     "output_type": "execute_result"
    }
   ],
   "source": [
    "pais = pd.DataFrame([\n",
    "    [1\t,\"México\"\t,126000000\t,1970000],\n",
    "    [2\t,\"Colombia\",\t51000000,\t1140000],\n",
    "    [3\t,\"Venezuela\",\t28000000,\t916000],\n",
    "],\n",
    "    columns=[\"ID\",\"Pais\",\"Poblacion\",\"Area\"] \n",
    ")\n",
    "pais"
   ]
  },
  {
   "cell_type": "code",
   "execution_count": 76,
   "id": "2dd23846",
   "metadata": {},
   "outputs": [
    {
     "data": {
      "text/html": [
       "<div>\n",
       "<style scoped>\n",
       "    .dataframe tbody tr th:only-of-type {\n",
       "        vertical-align: middle;\n",
       "    }\n",
       "\n",
       "    .dataframe tbody tr th {\n",
       "        vertical-align: top;\n",
       "    }\n",
       "\n",
       "    .dataframe thead th {\n",
       "        text-align: right;\n",
       "    }\n",
       "</style>\n",
       "<table border=\"1\" class=\"dataframe\">\n",
       "  <thead>\n",
       "    <tr style=\"text-align: right;\">\n",
       "      <th></th>\n",
       "      <th>ID</th>\n",
       "      <th>Pais</th>\n",
       "      <th>Poblacion</th>\n",
       "      <th>Area</th>\n",
       "    </tr>\n",
       "  </thead>\n",
       "  <tbody>\n",
       "    <tr>\n",
       "      <th>0</th>\n",
       "      <td>1</td>\n",
       "      <td>México</td>\n",
       "      <td>126000000</td>\n",
       "      <td>1970000</td>\n",
       "    </tr>\n",
       "    <tr>\n",
       "      <th>1</th>\n",
       "      <td>2</td>\n",
       "      <td>Colombia</td>\n",
       "      <td>51000000</td>\n",
       "      <td>1140000</td>\n",
       "    </tr>\n",
       "    <tr>\n",
       "      <th>2</th>\n",
       "      <td>3</td>\n",
       "      <td>Venezuela</td>\n",
       "      <td>28000000</td>\n",
       "      <td>916000</td>\n",
       "    </tr>\n",
       "  </tbody>\n",
       "</table>\n",
       "</div>"
      ],
      "text/plain": [
       "   ID       Pais  Poblacion     Area\n",
       "0   1     México  126000000  1970000\n",
       "1   2   Colombia   51000000  1140000\n",
       "2   3  Venezuela   28000000   916000"
      ]
     },
     "execution_count": 76,
     "metadata": {},
     "output_type": "execute_result"
    }
   ],
   "source": [
    "pais"
   ]
  },
  {
   "cell_type": "code",
   "execution_count": 60,
   "id": "afc2c4c0",
   "metadata": {},
   "outputs": [
    {
     "data": {
      "text/html": [
       "<div>\n",
       "<style scoped>\n",
       "    .dataframe tbody tr th:only-of-type {\n",
       "        vertical-align: middle;\n",
       "    }\n",
       "\n",
       "    .dataframe tbody tr th {\n",
       "        vertical-align: top;\n",
       "    }\n",
       "\n",
       "    .dataframe thead th {\n",
       "        text-align: right;\n",
       "    }\n",
       "</style>\n",
       "<table border=\"1\" class=\"dataframe\">\n",
       "  <thead>\n",
       "    <tr style=\"text-align: right;\">\n",
       "      <th></th>\n",
       "      <th>ID</th>\n",
       "      <th>Pais</th>\n",
       "      <th>Poblacion</th>\n",
       "      <th>Area</th>\n",
       "    </tr>\n",
       "  </thead>\n",
       "  <tbody>\n",
       "    <tr>\n",
       "      <th>1</th>\n",
       "      <td>2</td>\n",
       "      <td>Colombia</td>\n",
       "      <td>51000000</td>\n",
       "      <td>1140000</td>\n",
       "    </tr>\n",
       "    <tr>\n",
       "      <th>0</th>\n",
       "      <td>1</td>\n",
       "      <td>México</td>\n",
       "      <td>126000000</td>\n",
       "      <td>1970000</td>\n",
       "    </tr>\n",
       "    <tr>\n",
       "      <th>2</th>\n",
       "      <td>3</td>\n",
       "      <td>Venezuela</td>\n",
       "      <td>28000000</td>\n",
       "      <td>916000</td>\n",
       "    </tr>\n",
       "  </tbody>\n",
       "</table>\n",
       "</div>"
      ],
      "text/plain": [
       "   ID       Pais  Poblacion     Area\n",
       "1   2   Colombia   51000000  1140000\n",
       "0   1     México  126000000  1970000\n",
       "2   3  Venezuela   28000000   916000"
      ]
     },
     "execution_count": 60,
     "metadata": {},
     "output_type": "execute_result"
    }
   ],
   "source": [
    "ordenado =pais.sort_values(\"Pais\")\n",
    "ordenado"
   ]
  },
  {
   "cell_type": "code",
   "execution_count": 62,
   "id": "4ff1452e",
   "metadata": {},
   "outputs": [
    {
     "data": {
      "text/html": [
       "<div>\n",
       "<style scoped>\n",
       "    .dataframe tbody tr th:only-of-type {\n",
       "        vertical-align: middle;\n",
       "    }\n",
       "\n",
       "    .dataframe tbody tr th {\n",
       "        vertical-align: top;\n",
       "    }\n",
       "\n",
       "    .dataframe thead th {\n",
       "        text-align: right;\n",
       "    }\n",
       "</style>\n",
       "<table border=\"1\" class=\"dataframe\">\n",
       "  <thead>\n",
       "    <tr style=\"text-align: right;\">\n",
       "      <th></th>\n",
       "      <th>ID</th>\n",
       "      <th>Pais</th>\n",
       "      <th>Poblacion</th>\n",
       "      <th>Area</th>\n",
       "    </tr>\n",
       "  </thead>\n",
       "  <tbody>\n",
       "    <tr>\n",
       "      <th>0</th>\n",
       "      <td>1</td>\n",
       "      <td>México</td>\n",
       "      <td>126000000</td>\n",
       "      <td>1970000</td>\n",
       "    </tr>\n",
       "    <tr>\n",
       "      <th>1</th>\n",
       "      <td>2</td>\n",
       "      <td>Colombia</td>\n",
       "      <td>51000000</td>\n",
       "      <td>1140000</td>\n",
       "    </tr>\n",
       "  </tbody>\n",
       "</table>\n",
       "</div>"
      ],
      "text/plain": [
       "   ID      Pais  Poblacion     Area\n",
       "0   1    México  126000000  1970000\n",
       "1   2  Colombia   51000000  1140000"
      ]
     },
     "execution_count": 62,
     "metadata": {},
     "output_type": "execute_result"
    }
   ],
   "source": [
    "filtrado = pais.query(\"Poblacion > 50000000\")\n",
    "filtrado"
   ]
  },
  {
   "cell_type": "code",
   "execution_count": 46,
   "id": "68d827a6",
   "metadata": {},
   "outputs": [
    {
     "data": {
      "text/plain": [
       "0       México\n",
       "1     Colombia\n",
       "2    Venezuela\n",
       "Name: Pais, dtype: object"
      ]
     },
     "execution_count": 46,
     "metadata": {},
     "output_type": "execute_result"
    }
   ],
   "source": [
    "nombre_pais = pais[\"Pais\"]\n",
    "nombre_pais"
   ]
  },
  {
   "cell_type": "code",
   "execution_count": 71,
   "id": "116b1597",
   "metadata": {},
   "outputs": [
    {
     "data": {
      "text/html": [
       "<div>\n",
       "<style scoped>\n",
       "    .dataframe tbody tr th:only-of-type {\n",
       "        vertical-align: middle;\n",
       "    }\n",
       "\n",
       "    .dataframe tbody tr th {\n",
       "        vertical-align: top;\n",
       "    }\n",
       "\n",
       "    .dataframe thead th {\n",
       "        text-align: right;\n",
       "    }\n",
       "</style>\n",
       "<table border=\"1\" class=\"dataframe\">\n",
       "  <thead>\n",
       "    <tr style=\"text-align: right;\">\n",
       "      <th></th>\n",
       "      <th>ID</th>\n",
       "      <th>Pais</th>\n",
       "      <th>Poblacion</th>\n",
       "      <th>Area</th>\n",
       "    </tr>\n",
       "  </thead>\n",
       "  <tbody>\n",
       "    <tr>\n",
       "      <th>1</th>\n",
       "      <td>2</td>\n",
       "      <td>Colombia</td>\n",
       "      <td>51000000</td>\n",
       "      <td>1140000</td>\n",
       "    </tr>\n",
       "  </tbody>\n",
       "</table>\n",
       "</div>"
      ],
      "text/plain": [
       "   ID      Pais  Poblacion     Area\n",
       "1   2  Colombia   51000000  1140000"
      ]
     },
     "execution_count": 71,
     "metadata": {},
     "output_type": "execute_result"
    }
   ],
   "source": [
    "colombia = pais.query(\"Pais == 'Colombia'\")\n",
    "colombia"
   ]
  },
  {
   "cell_type": "code",
   "execution_count": 77,
   "id": "26c8ef18",
   "metadata": {},
   "outputs": [
    {
     "data": {
      "text/html": [
       "<div>\n",
       "<style scoped>\n",
       "    .dataframe tbody tr th:only-of-type {\n",
       "        vertical-align: middle;\n",
       "    }\n",
       "\n",
       "    .dataframe tbody tr th {\n",
       "        vertical-align: top;\n",
       "    }\n",
       "\n",
       "    .dataframe thead th {\n",
       "        text-align: right;\n",
       "    }\n",
       "</style>\n",
       "<table border=\"1\" class=\"dataframe\">\n",
       "  <thead>\n",
       "    <tr style=\"text-align: right;\">\n",
       "      <th></th>\n",
       "      <th>ID</th>\n",
       "      <th>Pais</th>\n",
       "      <th>Poblacion</th>\n",
       "      <th>Area</th>\n",
       "    </tr>\n",
       "  </thead>\n",
       "  <tbody>\n",
       "    <tr>\n",
       "      <th>0</th>\n",
       "      <td>1</td>\n",
       "      <td>México</td>\n",
       "      <td>126000000</td>\n",
       "      <td>1970000</td>\n",
       "    </tr>\n",
       "    <tr>\n",
       "      <th>1</th>\n",
       "      <td>2</td>\n",
       "      <td>Colombia</td>\n",
       "      <td>51000000</td>\n",
       "      <td>1140000</td>\n",
       "    </tr>\n",
       "    <tr>\n",
       "      <th>2</th>\n",
       "      <td>3</td>\n",
       "      <td>Venezuela</td>\n",
       "      <td>28000000</td>\n",
       "      <td>916000</td>\n",
       "    </tr>\n",
       "    <tr>\n",
       "      <th>3</th>\n",
       "      <td>4</td>\n",
       "      <td>Peru</td>\n",
       "      <td>33000000</td>\n",
       "      <td>1285000</td>\n",
       "    </tr>\n",
       "  </tbody>\n",
       "</table>\n",
       "</div>"
      ],
      "text/plain": [
       "   ID       Pais  Poblacion     Area\n",
       "0   1     México  126000000  1970000\n",
       "1   2   Colombia   51000000  1140000\n",
       "2   3  Venezuela   28000000   916000\n",
       "3   4       Peru   33000000  1285000"
      ]
     },
     "execution_count": 77,
     "metadata": {},
     "output_type": "execute_result"
    }
   ],
   "source": [
    "nueva_fila = pd.DataFrame([[4\t,\"Peru\",\t33000000,\t1285000]], columns=pais.columns)\n",
    "pais = pd.concat([pais,nueva_fila],ignore_index=True)\n",
    "pais"
   ]
  },
  {
   "cell_type": "code",
   "execution_count": 93,
   "id": "823bf4f4",
   "metadata": {},
   "outputs": [
    {
     "data": {
      "text/plain": [
       "[5, 15, 15, 6, 13, 12, 14, 17, 4, 18]"
      ]
     },
     "execution_count": 93,
     "metadata": {},
     "output_type": "execute_result"
    }
   ],
   "source": [
    "import random\n",
    "random.seed(100)\n",
    "temperatura =[random.randint(1,20) for _ in range(10)]\n",
    "temperatura"
   ]
  },
  {
   "cell_type": "code",
   "execution_count": 95,
   "id": "05d2bb1d",
   "metadata": {},
   "outputs": [
    {
     "data": {
      "text/plain": [
       "[5, 15, 15, 6, 13, 12, 14, 17, 4, 18, 20, 23, 20, 23]"
      ]
     },
     "execution_count": 95,
     "metadata": {},
     "output_type": "execute_result"
    }
   ],
   "source": [
    "temperatura = temperatura+[20,23]\n",
    "temperatura"
   ]
  },
  {
   "cell_type": "code",
   "execution_count": 98,
   "id": "f3497159",
   "metadata": {},
   "outputs": [],
   "source": [
    "del(temperatura[-1])"
   ]
  },
  {
   "cell_type": "code",
   "execution_count": 99,
   "id": "7ec18749",
   "metadata": {},
   "outputs": [
    {
     "data": {
      "text/plain": [
       "[5, 15, 15, 6, 13, 12, 14, 17, 4, 18, 20, 23, 20]"
      ]
     },
     "execution_count": 99,
     "metadata": {},
     "output_type": "execute_result"
    }
   ],
   "source": [
    "temperatura"
   ]
  },
  {
   "cell_type": "code",
   "execution_count": 107,
   "id": "3b178680",
   "metadata": {},
   "outputs": [
    {
     "data": {
      "text/plain": [
       "[68, 51, 63, 65, 68]"
      ]
     },
     "execution_count": 107,
     "metadata": {},
     "output_type": "execute_result"
    }
   ],
   "source": [
    "random.seed(10)\n",
    "x = [random.randint(50,70) for _ in range(5)]\n",
    "y=list(x)\n",
    "y"
   ]
  },
  {
   "cell_type": "code",
   "execution_count": 108,
   "id": "85d83a62",
   "metadata": {},
   "outputs": [
    {
     "data": {
      "text/plain": [
       "[68, 52, 63, 65, 68]"
      ]
     },
     "execution_count": 108,
     "metadata": {},
     "output_type": "execute_result"
    }
   ],
   "source": [
    "y[1]=52\n",
    "y"
   ]
  },
  {
   "cell_type": "code",
   "execution_count": 109,
   "id": "9d1346a1",
   "metadata": {},
   "outputs": [
    {
     "data": {
      "text/plain": [
       "[68, 51, 63, 65, 68]"
      ]
     },
     "execution_count": 109,
     "metadata": {},
     "output_type": "execute_result"
    }
   ],
   "source": [
    "x"
   ]
  }
 ],
 "metadata": {
  "kernelspec": {
   "display_name": "base",
   "language": "python",
   "name": "python3"
  },
  "language_info": {
   "codemirror_mode": {
    "name": "ipython",
    "version": 3
   },
   "file_extension": ".py",
   "mimetype": "text/x-python",
   "name": "python",
   "nbconvert_exporter": "python",
   "pygments_lexer": "ipython3",
   "version": "3.12.7"
  }
 },
 "nbformat": 4,
 "nbformat_minor": 5
}
