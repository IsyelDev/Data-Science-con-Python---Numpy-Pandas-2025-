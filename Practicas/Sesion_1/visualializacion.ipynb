{
 "cells": [
  {
   "cell_type": "code",
   "execution_count": 192,
   "id": "ce70d141",
   "metadata": {},
   "outputs": [
    {
     "ename": "TypeError",
     "evalue": "'int' object is not callable",
     "output_type": "error",
     "traceback": [
      "\u001b[1;31m---------------------------------------------------------------------------\u001b[0m",
      "\u001b[1;31mTypeError\u001b[0m                                 Traceback (most recent call last)",
      "Cell \u001b[1;32mIn[192], line 8\u001b[0m\n\u001b[0;32m      6\u001b[0m \u001b[38;5;28;01mwith\u001b[39;00m \u001b[38;5;28mopen\u001b[39m(\u001b[38;5;124mrf\u001b[39m\u001b[38;5;124m\"\u001b[39m\u001b[38;5;132;01m{\u001b[39;00murl\u001b[38;5;132;01m}\u001b[39;00m\u001b[38;5;124m\"\u001b[39m,\u001b[38;5;124m\"\u001b[39m\u001b[38;5;124mrb\u001b[39m\u001b[38;5;124m\"\u001b[39m) \u001b[38;5;28;01mas\u001b[39;00m file:\n\u001b[0;32m      7\u001b[0m     resultado \u001b[38;5;241m=\u001b[39m cd\u001b[38;5;241m.\u001b[39mdetect(file\u001b[38;5;241m.\u001b[39mread())\n\u001b[1;32m----> 8\u001b[0m \u001b[38;5;28;43mprint\u001b[39;49m\u001b[43m(\u001b[49m\u001b[43mresultado\u001b[49m\u001b[43m)\u001b[49m\n",
      "\u001b[1;31mTypeError\u001b[0m: 'int' object is not callable"
     ]
    }
   ],
   "source": [
    "import pandas as pd\n",
    "import chardet as cd\n",
    "import matplotlib.pyplot as plt\n",
    "\n",
    "url = \"../../Datasets+Data+Science+con+Python+-+Pandas/1.4/SP500_data_.csv\"\n",
    "with open(rf\"{url}\",\"rb\") as file:\n",
    "    resultado = cd.detect(file.read())\n",
    "print(resultado)"
   ]
  },
  {
   "cell_type": "code",
   "execution_count": null,
   "id": "0c7774fd",
   "metadata": {},
   "outputs": [
    {
     "data": {
      "text/html": [
       "<div>\n",
       "<style scoped>\n",
       "    .dataframe tbody tr th:only-of-type {\n",
       "        vertical-align: middle;\n",
       "    }\n",
       "\n",
       "    .dataframe tbody tr th {\n",
       "        vertical-align: top;\n",
       "    }\n",
       "\n",
       "    .dataframe thead th {\n",
       "        text-align: right;\n",
       "    }\n",
       "</style>\n",
       "<table border=\"1\" class=\"dataframe\">\n",
       "  <thead>\n",
       "    <tr style=\"text-align: right;\">\n",
       "      <th></th>\n",
       "      <th>Date</th>\n",
       "      <th>Open</th>\n",
       "      <th>High</th>\n",
       "      <th>Low</th>\n",
       "      <th>Close</th>\n",
       "      <th>Adj Close</th>\n",
       "      <th>Volume</th>\n",
       "    </tr>\n",
       "  </thead>\n",
       "  <tbody>\n",
       "    <tr>\n",
       "      <th>0</th>\n",
       "      <td>1928-01-03</td>\n",
       "      <td>17.760000</td>\n",
       "      <td>17.760000</td>\n",
       "      <td>17.760000</td>\n",
       "      <td>17.760000</td>\n",
       "      <td>17.760000</td>\n",
       "      <td>0</td>\n",
       "    </tr>\n",
       "    <tr>\n",
       "      <th>1</th>\n",
       "      <td>1928-01-04</td>\n",
       "      <td>17.719999</td>\n",
       "      <td>17.719999</td>\n",
       "      <td>17.719999</td>\n",
       "      <td>17.719999</td>\n",
       "      <td>17.719999</td>\n",
       "      <td>0</td>\n",
       "    </tr>\n",
       "    <tr>\n",
       "      <th>2</th>\n",
       "      <td>1928-01-05</td>\n",
       "      <td>17.549999</td>\n",
       "      <td>17.549999</td>\n",
       "      <td>17.549999</td>\n",
       "      <td>17.549999</td>\n",
       "      <td>17.549999</td>\n",
       "      <td>0</td>\n",
       "    </tr>\n",
       "    <tr>\n",
       "      <th>3</th>\n",
       "      <td>1928-01-06</td>\n",
       "      <td>17.660000</td>\n",
       "      <td>17.660000</td>\n",
       "      <td>17.660000</td>\n",
       "      <td>17.660000</td>\n",
       "      <td>17.660000</td>\n",
       "      <td>0</td>\n",
       "    </tr>\n",
       "    <tr>\n",
       "      <th>4</th>\n",
       "      <td>1928-01-09</td>\n",
       "      <td>17.500000</td>\n",
       "      <td>17.500000</td>\n",
       "      <td>17.500000</td>\n",
       "      <td>17.500000</td>\n",
       "      <td>17.500000</td>\n",
       "      <td>0</td>\n",
       "    </tr>\n",
       "  </tbody>\n",
       "</table>\n",
       "</div>"
      ],
      "text/plain": [
       "         Date       Open       High        Low      Close  Adj Close  Volume\n",
       "0  1928-01-03  17.760000  17.760000  17.760000  17.760000  17.760000       0\n",
       "1  1928-01-04  17.719999  17.719999  17.719999  17.719999  17.719999       0\n",
       "2  1928-01-05  17.549999  17.549999  17.549999  17.549999  17.549999       0\n",
       "3  1928-01-06  17.660000  17.660000  17.660000  17.660000  17.660000       0\n",
       "4  1928-01-09  17.500000  17.500000  17.500000  17.500000  17.500000       0"
      ]
     },
     "execution_count": 102,
     "metadata": {},
     "output_type": "execute_result"
    }
   ],
   "source": [
    "visor = pd.read_csv(url , delimiter=\",\")\n",
    "visor.head()"
   ]
  },
  {
   "cell_type": "code",
   "execution_count": null,
   "id": "faed9f5e",
   "metadata": {},
   "outputs": [
    {
     "name": "stdout",
     "output_type": "stream",
     "text": [
      "Date          object\n",
      "Open         float64\n",
      "High         float64\n",
      "Low          float64\n",
      "Close        float64\n",
      "Adj Close    float64\n",
      "Volume         int64\n",
      "dtype: object\n"
     ]
    }
   ],
   "source": [
    "print(visor.dtypes)"
   ]
  },
  {
   "cell_type": "code",
   "execution_count": null,
   "id": "c3d25fe1",
   "metadata": {},
   "outputs": [],
   "source": [
    "visor[\"Date\"] = pd.to_datetime(visor[\"Date\"])"
   ]
  },
  {
   "cell_type": "code",
   "execution_count": null,
   "id": "80c10e2c",
   "metadata": {},
   "outputs": [
    {
     "name": "stdout",
     "output_type": "stream",
     "text": [
      "Date         datetime64[ns]\n",
      "Open                float64\n",
      "High                float64\n",
      "Low                 float64\n",
      "Close               float64\n",
      "Adj Close           float64\n",
      "Volume                int64\n",
      "dtype: object\n"
     ]
    }
   ],
   "source": [
    "print(visor.dtypes)"
   ]
  },
  {
   "cell_type": "code",
   "execution_count": null,
   "id": "f44c7d45",
   "metadata": {},
   "outputs": [
    {
     "name": "stdout",
     "output_type": "stream",
     "text": [
      "datetime64[ns]\n"
     ]
    }
   ],
   "source": [
    "visor.set_index(\"Date\" , inplace=True)\n",
    "print(visor.index.dtype)"
   ]
  },
  {
   "cell_type": "code",
   "execution_count": null,
   "id": "54796a3f",
   "metadata": {},
   "outputs": [
    {
     "data": {
      "image/png": "[encoded data removed]",
      "text/plain": [
       "<Figure size 1000x1000 with 1 Axes>"
      ]
     },
     "metadata": {},
     "output_type": "display_data"
    }
   ],
   "source": [
    "\n",
    "visor.plot(figsize=(10,10))\n",
    "plt.grid(True)\n",
    "plt.xlabel(\"Años\")\n",
    "plt.ylabel(\"Densidad\")\n",
    "plt.xticks([pd.Timestamp(str(ano)) for ano in [1928,1960,1990]])\n",
    "\n",
    "plt.show()"
   ]
  },
  {
   "cell_type": "code",
   "execution_count": null,
   "id": "4ca142e8",
   "metadata": {},
   "outputs": [
    {
     "data": {
      "image/png": "[encoded data removed]",
      "text/plain": [
       "<Figure size 1000x1000 with 1 Axes>"
      ]
     },
     "metadata": {},
     "output_type": "display_data"
    }
   ],
   "source": [
    "\n",
    "visor.plot(figsize=(10,10))\n",
    "plt.grid(True)\n",
    "plt.xlabel(\"Años\")\n",
    "plt.ylabel(\"Densidad\")\n",
    "plt.xticks([pd.Timestamp(\"1928\"), pd.Timestamp(\"1945\"), pd.Timestamp(\"1962\")])\n",
    "plt.show()"
   ]
  },
  {
   "cell_type": "code",
   "execution_count": null,
   "id": "03ecbd42",
   "metadata": {},
   "outputs": [
    {
     "data": {
      "image/png": "[encoded data removed]",
      "text/plain": [
       "<Figure size 640x480 with 1 Axes>"
      ]
     },
     "metadata": {},
     "output_type": "display_data"
    }
   ],
   "source": [
    "import pandas as pd\n",
    "import matplotlib.pyplot as plt\n",
    "\n",
    "df = pd.DataFrame({\n",
    "    \"Ciudad\": [\"Lima\", \"Quito\", \"Bogotá\", \"Santiago\", \"Buenos Aires\"],\n",
    "    \"Altura (msnm)\": [154, 2850, 2640, 570, 25],\n",
    "    \"Temperatura (°C)\": [20, 14, 16, 18, 22]\n",
    "})\n",
    "\n",
    "plt.scatter(df[\"Altura (msnm)\"], df[\"Temperatura (°C)\"])\n",
    "\n",
    "for i in range(5):\n",
    "    plt.annotate(df[\"Ciudad\"][i], (df[\"Altura (msnm)\"][i], df[\"Temperatura (°C)\"][i]))\n",
    "\n",
    "plt.xlabel(\"Altura\")\n",
    "plt.ylabel(\"Temperatura\")\n",
    "plt.title(\"Altura vs Temperatura\")\n",
    "plt.grid(True)\n",
    "plt.show()\n"
   ]
  },
  {
   "cell_type": "code",
   "execution_count": null,
   "id": "17cc26ed",
   "metadata": {},
   "outputs": [
    {
     "data": {
      "text/html": [
       "<div>\n",
       "<style scoped>\n",
       "    .dataframe tbody tr th:only-of-type {\n",
       "        vertical-align: middle;\n",
       "    }\n",
       "\n",
       "    .dataframe tbody tr th {\n",
       "        vertical-align: top;\n",
       "    }\n",
       "\n",
       "    .dataframe thead th {\n",
       "        text-align: right;\n",
       "    }\n",
       "</style>\n",
       "<table border=\"1\" class=\"dataframe\">\n",
       "  <thead>\n",
       "    <tr style=\"text-align: right;\">\n",
       "      <th></th>\n",
       "      <th>Pais</th>\n",
       "      <th>Capital</th>\n",
       "    </tr>\n",
       "  </thead>\n",
       "  <tbody>\n",
       "    <tr>\n",
       "      <th>0</th>\n",
       "      <td>f</td>\n",
       "      <td>f</td>\n",
       "    </tr>\n",
       "    <tr>\n",
       "      <th>1</th>\n",
       "      <td>w</td>\n",
       "      <td>w</td>\n",
       "    </tr>\n",
       "    <tr>\n",
       "      <th>2</th>\n",
       "      <td>e</td>\n",
       "      <td>e</td>\n",
       "    </tr>\n",
       "    <tr>\n",
       "      <th>3</th>\n",
       "      <td>r</td>\n",
       "      <td>r</td>\n",
       "    </tr>\n",
       "  </tbody>\n",
       "</table>\n",
       "</div>"
      ],
      "text/plain": [
       "  Pais Capital\n",
       "0    f       f\n",
       "1    w       w\n",
       "2    e       e\n",
       "3    r       r"
      ]
     },
     "execution_count": 114,
     "metadata": {},
     "output_type": "execute_result"
    }
   ],
   "source": [
    "tabla = pd.DataFrame(\n",
    "    {\n",
    "    \"Pais\":[\"f\",\"w\",\"e\",\"r\"],\n",
    "    \"Capital\":[\"f\",\"w\",\"e\",\"r\"]\n",
    "})\n",
    "tabla"
   ]
  },
  {
   "cell_type": "code",
   "execution_count": null,
   "id": "09efde4a",
   "metadata": {},
   "outputs": [
    {
     "name": "stdout",
     "output_type": "stream",
     "text": [
      "f\n",
      "w\n",
      "e\n",
      "r\n"
     ]
    }
   ],
   "source": [
    "for i in range(len(tabla)):\n",
    "    print(tabla[\"Pais\"][i])"
   ]
  },
  {
   "cell_type": "code",
   "execution_count": null,
   "id": "a2f7eb97",
   "metadata": {},
   "outputs": [
    {
     "data": {
      "text/html": [
       "<div>\n",
       "<style scoped>\n",
       "    .dataframe tbody tr th:only-of-type {\n",
       "        vertical-align: middle;\n",
       "    }\n",
       "\n",
       "    .dataframe tbody tr th {\n",
       "        vertical-align: top;\n",
       "    }\n",
       "\n",
       "    .dataframe thead th {\n",
       "        text-align: right;\n",
       "    }\n",
       "</style>\n",
       "<table border=\"1\" class=\"dataframe\">\n",
       "  <thead>\n",
       "    <tr style=\"text-align: right;\">\n",
       "      <th></th>\n",
       "      <th>x</th>\n",
       "      <th>y</th>\n",
       "    </tr>\n",
       "  </thead>\n",
       "  <tbody>\n",
       "    <tr>\n",
       "      <th>0</th>\n",
       "      <td>0</td>\n",
       "      <td>0</td>\n",
       "    </tr>\n",
       "    <tr>\n",
       "      <th>1</th>\n",
       "      <td>1</td>\n",
       "      <td>1</td>\n",
       "    </tr>\n",
       "    <tr>\n",
       "      <th>2</th>\n",
       "      <td>2</td>\n",
       "      <td>2</td>\n",
       "    </tr>\n",
       "    <tr>\n",
       "      <th>3</th>\n",
       "      <td>3</td>\n",
       "      <td>3</td>\n",
       "    </tr>\n",
       "    <tr>\n",
       "      <th>4</th>\n",
       "      <td>4</td>\n",
       "      <td>4</td>\n",
       "    </tr>\n",
       "    <tr>\n",
       "      <th>5</th>\n",
       "      <td>5</td>\n",
       "      <td>5</td>\n",
       "    </tr>\n",
       "    <tr>\n",
       "      <th>6</th>\n",
       "      <td>6</td>\n",
       "      <td>6</td>\n",
       "    </tr>\n",
       "    <tr>\n",
       "      <th>7</th>\n",
       "      <td>7</td>\n",
       "      <td>7</td>\n",
       "    </tr>\n",
       "    <tr>\n",
       "      <th>8</th>\n",
       "      <td>8</td>\n",
       "      <td>8</td>\n",
       "    </tr>\n",
       "    <tr>\n",
       "      <th>9</th>\n",
       "      <td>9</td>\n",
       "      <td>9</td>\n",
       "    </tr>\n",
       "    <tr>\n",
       "      <th>10</th>\n",
       "      <td>10</td>\n",
       "      <td>10</td>\n",
       "    </tr>\n",
       "  </tbody>\n",
       "</table>\n",
       "</div>"
      ],
      "text/plain": [
       "     x   y\n",
       "0    0   0\n",
       "1    1   1\n",
       "2    2   2\n",
       "3    3   3\n",
       "4    4   4\n",
       "5    5   5\n",
       "6    6   6\n",
       "7    7   7\n",
       "8    8   8\n",
       "9    9   9\n",
       "10  10  10"
      ]
     },
     "execution_count": 121,
     "metadata": {},
     "output_type": "execute_result"
    }
   ],
   "source": [
    "import numpy as np\n",
    "tabla2 = pd.DataFrame(\n",
    "    {\n",
    "    \"x\":[x for x in np.arange(11)],\n",
    "    \"y\":[y for y in np.arange(11)]\n",
    "})\n",
    "tabla2"
   ]
  },
  {
   "cell_type": "code",
   "execution_count": null,
   "id": "b8a4e7e9",
   "metadata": {},
   "outputs": [
    {
     "name": "stdout",
     "output_type": "stream",
     "text": [
      "Punto: 0 0\n",
      "Punto: 2 2\n",
      "Punto: 4 4\n",
      "Punto: 6 6\n",
      "Punto: 8 8\n",
      "Punto: 10 10\n"
     ]
    }
   ],
   "source": [
    "for i in range(len(tabla2)):\n",
    "    if tabla2[\"x\"][i]%2==0:\n",
    "        print(\"Punto:\", tabla2[\"x\"][i], tabla2[\"y\"][i])"
   ]
  },
  {
   "cell_type": "code",
   "execution_count": null,
   "id": "58099ad7",
   "metadata": {},
   "outputs": [],
   "source": [
    "def suma_total(*args):\n",
    "    multi=0\n",
    "    for x in args:\n",
    "        multi +=x\n",
    "    return multi\n",
    "\n",
    "def contar_args(*args):\n",
    "    return len(args)\n",
    "\n",
    "def maximo_valor(*args):\n",
    "    maximo=args[0]\n",
    "    for x in args:\n",
    "        if(x>maximo):\n",
    "            maximo=x\n",
    "    return maximo\n",
    "\n",
    "def unir_textos(*args):\n",
    "   return \",\".join(args).split(\",\")"
   ]
  },
  {
   "cell_type": "code",
   "execution_count": null,
   "id": "7f850838",
   "metadata": {},
   "outputs": [
    {
     "data": {
      "text/plain": [
       "['mama', 'mateo', 'bb']"
      ]
     },
     "execution_count": 171,
     "metadata": {},
     "output_type": "execute_result"
    }
   ],
   "source": [
    "y =unir_textos(\"mama\",\"mateo\",\"bb\")\n",
    "y"
   ]
  },
  {
   "cell_type": "code",
   "execution_count": null,
   "id": "b96d88ab",
   "metadata": {},
   "outputs": [
    {
     "data": {
      "text/plain": [
       "49"
      ]
     },
     "execution_count": 146,
     "metadata": {},
     "output_type": "execute_result"
    }
   ],
   "source": [
    "xa = suma_total(15,15,15,4)\n",
    "xa"
   ]
  },
  {
   "cell_type": "code",
   "execution_count": null,
   "id": "8ed35571",
   "metadata": {},
   "outputs": [
    {
     "data": {
      "text/plain": [
       "49"
      ]
     },
     "execution_count": 145,
     "metadata": {},
     "output_type": "execute_result"
    }
   ],
   "source": [
    "def suma_total(*args):\n",
    "    multi = 0\n",
    "    for x in args:\n",
    "        multi += x\n",
    "    return multi\n",
    "\n",
    "xa = suma_total(15, 15, 15, 4)\n",
    "xa\n"
   ]
  },
  {
   "cell_type": "code",
   "execution_count": 1,
   "id": "f9671703",
   "metadata": {},
   "outputs": [],
   "source": [
    "def mostrar_argumentos(*args):\n",
    "    for i, valor in enumerate(args):\n",
    "        print(f\"Indice{i}-> valor{valor}\")\n",
    "    "
   ]
  },
  {
   "cell_type": "code",
   "execution_count": 2,
   "id": "e9a58842",
   "metadata": {},
   "outputs": [
    {
     "name": "stdout",
     "output_type": "stream",
     "text": [
      "Indice0-> valor10\n",
      "Indice1-> valor20\n",
      "Indice2-> valor30\n",
      "Indice3-> valor40\n"
     ]
    }
   ],
   "source": [
    "mostrar_argumentos(10, 20, 30, 40)\n"
   ]
  },
  {
   "cell_type": "code",
   "execution_count": null,
   "id": "6f509108",
   "metadata": {},
   "outputs": [
    {
     "data": {
      "text/plain": [
       "25"
      ]
     },
     "execution_count": 3,
     "metadata": {},
     "output_type": "execute_result"
    }
   ],
   "source": [
    "doble = lambda x: x**2\n",
    "suma = lambda a, b: a+b\n",
    "mayor = lambda edad: \"Sí\" if edad>18 else \"No\"\n",
    "\n",
    "lista = [1, 2, 3, 4]\n",
    "cuadrados = list(map(lambda x: x**2, lista))\n",
    "\n",
    "personas = [(\"Ana\", 25), (\"Luis\", 20), (\"María\", 30)]\n",
    "ordenado = sorted(personas, key=lambda x: x[1])\n"
   ]
  },
  {
   "cell_type": "code",
   "execution_count": 15,
   "id": "9cac17fb",
   "metadata": {},
   "outputs": [
    {
     "data": {
      "text/plain": [
       "[6, 8, 10]"
      ]
     },
     "execution_count": 15,
     "metadata": {},
     "output_type": "execute_result"
    }
   ],
   "source": [
    "import numpy as np\n",
    "lista = np.arange(1,11)\n",
    "lista\n",
    "filtrado = list(filter(lambda x : x%2==0 and x>5,lista))\n",
    "filtrado"
   ]
  },
  {
   "cell_type": "code",
   "execution_count": null,
   "id": "4723dec5",
   "metadata": {},
   "outputs": [
    {
     "data": {
      "text/plain": [
       "[('Sol', 20, 'Python'), ('Mar', 21, 'Java'), ('Luz', 22, 'C++')]"
      ]
     },
     "execution_count": 17,
     "metadata": {},
     "output_type": "execute_result"
    }
   ],
   "source": [
    "nombres = [\"Sol\", \"Mar\", \"Luz\"]\n",
    "poblacion = [20, 21, 22]\n",
    "cursos = [\"Python\", \"Java\", \"C++\"]\n",
    "combinado = list(zip(nombres,poblacion,cursos))\n",
    "combinado"
   ]
  },
  {
   "cell_type": "code",
   "execution_count": 19,
   "id": "bb0c4bc2",
   "metadata": {},
   "outputs": [
    {
     "data": {
      "text/plain": [
       "[('Mate', 14), ('Química', 18), ('Historia', 20)]"
      ]
     },
     "execution_count": 19,
     "metadata": {},
     "output_type": "execute_result"
    }
   ],
   "source": [
    "materias = [\"Mate\", \"Química\", \"Historia\"]\n",
    "notas = [14, 18, 20]\n",
    "\n",
    "unir = list(zip(materias,notas))\n",
    "unir"
   ]
  },
  {
   "cell_type": "code",
   "execution_count": 26,
   "id": "c986e904",
   "metadata": {},
   "outputs": [
    {
     "data": {
      "text/plain": [
       "(('Ana', 20),)"
      ]
     },
     "execution_count": 26,
     "metadata": {},
     "output_type": "execute_result"
    }
   ],
   "source": [
    "datos = [(\"Ana\", 20), (\"Luis\", 22), (\"María\", 25)]\n",
    "uno , dos ,tres = zip(datos)\n",
    "uno"
   ]
  },
  {
   "cell_type": "code",
   "execution_count": 28,
   "id": "49047120",
   "metadata": {},
   "outputs": [
    {
     "data": {
      "text/plain": [
       "[28, 36, 40]"
      ]
     },
     "execution_count": 28,
     "metadata": {},
     "output_type": "execute_result"
    }
   ],
   "source": [
    "notas = [14, 18, 20]\n",
    "notas2 = [14, 18, 20]\n",
    "rr = [x + y for x ,y in zip(notas,notas2)]\n",
    "rr"
   ]
  },
  {
   "cell_type": "code",
   "execution_count": null,
   "id": "9aff0ce0",
   "metadata": {},
   "outputs": [],
   "source": []
  },
  {
   "cell_type": "code",
   "execution_count": 38,
   "id": "c33b7047",
   "metadata": {},
   "outputs": [
    {
     "data": {
      "text/plain": [
       "22"
      ]
     },
     "execution_count": 38,
     "metadata": {},
     "output_type": "execute_result"
    }
   ],
   "source": [
    "nombres = [\"Sol\", \"Mar\", \"Luz\"]\n",
    "poblacion = [20, 21, 22]\n",
    "dict_pais =dict(zip(nombres,poblacion))\n",
    "dict_pais[\"Luz\"]"
   ]
  },
  {
   "cell_type": "code",
   "execution_count": 64,
   "id": "74013787",
   "metadata": {},
   "outputs": [
    {
     "name": "stdout",
     "output_type": "stream",
     "text": [
      "23%\n",
      "23%\n",
      "23%\n",
      "31%\n"
     ]
    }
   ],
   "source": [
    "\n",
    "\n",
    "\n",
    "b = 15\n",
    "c = 15\n",
    "d = 20\n",
    "a = 15\n",
    "\n",
    "listaaa = a + b + c + d\n",
    "\n",
    "ap = round(a / listaaa, 2)\n",
    "bp = round(b / listaaa, 2)\n",
    "cp = round(c / listaaa, 2)\n",
    "dp = round(d / listaaa, 2)\n",
    "\n",
    "resultado = [ap, bp, cp, dp]\n",
    "\n",
    "for n in resultado:\n",
    "    print(f\"{str(n)[2:] if str(n).startswith('0') else str(n)}%\")\n",
    "\n",
    "\n",
    "\n"
   ]
  }
 ],
 "metadata": {
  "kernelspec": {
   "display_name": "base",
   "language": "python",
   "name": "python3"
  },
  "language_info": {
   "codemirror_mode": {
    "name": "ipython",
    "version": 3
   },
   "file_extension": ".py",
   "mimetype": "text/x-python",
   "name": "python",
   "nbconvert_exporter": "python",
   "pygments_lexer": "ipython3",
   "version": "3.12.7"
  }
 },
 "nbformat": 4,
 "nbformat_minor": 5
}
