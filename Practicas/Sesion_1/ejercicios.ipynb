{
 "cells": [
  {
   "cell_type": "code",
   "execution_count": null,
   "id": "edbda7d0",
   "metadata": {},
   "outputs": [],
   "source": [
    "import pandas as pd\n"
   ]
  },
  {
   "cell_type": "code",
   "execution_count": null,
   "id": "d4db207d",
   "metadata": {},
   "outputs": [],
   "source": []
  },
  {
   "cell_type": "code",
   "execution_count": 24,
   "id": "1963b15a",
   "metadata": {},
   "outputs": [],
   "source": [
    "import pandas as pd\n",
    "import matplotlib.pyplot as plt\n",
    "\n",
    "df = pd.DataFrame({\n",
    "    \"Ciudad\": [\"A\", \"B\", \"C\", \"D\"],\n",
    "    \"Poblacion\": [1500000, 3000000, 4500000, 6000000]\n",
    "})\n"
   ]
  },
  {
   "cell_type": "code",
   "execution_count": 25,
   "id": "6b8788f5",
   "metadata": {},
   "outputs": [
    {
     "data": {
      "text/plain": [
       "<matplotlib.collections.PathCollection at 0x2986f8696a0>"
      ]
     },
     "execution_count": 25,
     "metadata": {},
     "output_type": "execute_result"
    },
    {
     "data": {
      "image/png": "[encoded data removed]",
      "text/plain": [
       "<Figure size 640x480 with 1 Axes>"
      ]
     },
     "metadata": {},
     "output_type": "display_data"
    }
   ],
   "source": [
    "plt.scatter(df[\"Ciudad\"],df[\"Poblacion\"])"
   ]
  },
  {
   "cell_type": "code",
   "execution_count": 26,
   "id": "7a8a9bd9",
   "metadata": {},
   "outputs": [
    {
     "data": {
      "text/plain": [
       "0     2500.0\n",
       "1     5000.0\n",
       "2     7500.0\n",
       "3    10000.0\n",
       "Name: poblacion_Escalada, dtype: float64"
      ]
     },
     "execution_count": 26,
     "metadata": {},
     "output_type": "execute_result"
    }
   ],
   "source": [
    "factor = (df[\"Poblacion\"].max()/10000)\n",
    "df[\"poblacion_Escalada\"] = df[\"Poblacion\"]/factor\n",
    "df[\"poblacion_Escalada\"]"
   ]
  },
  {
   "cell_type": "code",
   "execution_count": 17,
   "id": "aea65ebe",
   "metadata": {},
   "outputs": [
    {
     "data": {
      "text/plain": [
       "<matplotlib.collections.PathCollection at 0x2986f83e450>"
      ]
     },
     "execution_count": 17,
     "metadata": {},
     "output_type": "execute_result"
    },
    {
     "data": {
      "image/png": "[encoded data removed]",
      "text/plain": [
       "<Figure size 640x480 with 1 Axes>"
      ]
     },
     "metadata": {},
     "output_type": "display_data"
    }
   ],
   "source": [
    "plt.scatter(df[\"Ciudad\"],df[\"valor\"])"
   ]
  },
  {
   "cell_type": "code",
   "execution_count": null,
   "id": "6babe3ff",
   "metadata": {},
   "outputs": [
    {
     "data": {
      "text/html": [
       "<div>\n",
       "<style scoped>\n",
       "    .dataframe tbody tr th:only-of-type {\n",
       "        vertical-align: middle;\n",
       "    }\n",
       "\n",
       "    .dataframe tbody tr th {\n",
       "        vertical-align: top;\n",
       "    }\n",
       "\n",
       "    .dataframe thead th {\n",
       "        text-align: right;\n",
       "    }\n",
       "</style>\n",
       "<table border=\"1\" class=\"dataframe\">\n",
       "  <thead>\n",
       "    <tr style=\"text-align: right;\">\n",
       "      <th></th>\n",
       "      <th>Dia</th>\n",
       "      <th>Temperatura</th>\n",
       "      <th>Temperaturas</th>\n",
       "    </tr>\n",
       "  </thead>\n",
       "  <tbody>\n",
       "    <tr>\n",
       "      <th>0</th>\n",
       "      <td>Lunes</td>\n",
       "      <td>25</td>\n",
       "      <td>0.833333</td>\n",
       "    </tr>\n",
       "    <tr>\n",
       "      <th>1</th>\n",
       "      <td>Martes</td>\n",
       "      <td>30</td>\n",
       "      <td>1.000000</td>\n",
       "    </tr>\n",
       "    <tr>\n",
       "      <th>2</th>\n",
       "      <td>Miércoles</td>\n",
       "      <td>28</td>\n",
       "      <td>0.933333</td>\n",
       "    </tr>\n",
       "    <tr>\n",
       "      <th>3</th>\n",
       "      <td>Jueves</td>\n",
       "      <td>27</td>\n",
       "      <td>0.900000</td>\n",
       "    </tr>\n",
       "  </tbody>\n",
       "</table>\n",
       "</div>"
      ],
      "text/plain": [
       "         Dia  Temperatura  Temperaturas\n",
       "0      Lunes           25      0.833333\n",
       "1     Martes           30      1.000000\n",
       "2  Miércoles           28      0.933333\n",
       "3     Jueves           27      0.900000"
      ]
     },
     "execution_count": 20,
     "metadata": {},
     "output_type": "execute_result"
    }
   ],
   "source": [
    "import pandas as pd\n",
    "\n",
    "df = pd.DataFrame({\n",
    "    \"Dia\": [\"Lunes\", \"Martes\", \"Miércoles\", \"Jueves\"],\n",
    "    \"Temperatura\": [25, 30, 28, 27]\n",
    "})\n",
    "\n",
    "factor = df[\"Temperatura\"].max()\n",
    "df[\"Temp_normalizada\"] = df[\"Temperatura\"] / factor\n"
   ]
  },
  {
   "cell_type": "code",
   "execution_count": 27,
   "id": "cc544397",
   "metadata": {},
   "outputs": [],
   "source": [
    "def escalar_columna(df, columna, max_deseado=1):\n",
    "    # Tu función aquí\n",
    "    factor = df[columna].max() / max_deseado\n",
    "    df[columna + \"_escalada\"] = df[columna] / factor\n",
    "    return df"
   ]
  },
  {
   "cell_type": "code",
   "execution_count": null,
   "id": "c516ff9e",
   "metadata": {},
   "outputs": [],
   "source": [
    "df = pd.DataFrame({\n",
    "    \"Alumno\": [\"Ana\", \"Luis\", \"María\", \"Juan\"],\n",
    "    \"Puntaje\": [50, 80, 70, 90]\n",
    "})\n",
    "\n",
    "valor = df[\"Puntaje\"].max()/1\n",
    "df[\"Puntajes\"] = df[\"Puntaje\"]/valor\n",
    "df"
   ]
  }
 ],
 "metadata": {
  "kernelspec": {
   "display_name": "base",
   "language": "python",
   "name": "python3"
  },
  "language_info": {
   "codemirror_mode": {
    "name": "ipython",
    "version": 3
   },
   "file_extension": ".py",
   "mimetype": "text/x-python",
   "name": "python",
   "nbconvert_exporter": "python",
   "pygments_lexer": "ipython3",
   "version": "3.12.7"
  }
 },
 "nbformat": 4,
 "nbformat_minor": 5
}
