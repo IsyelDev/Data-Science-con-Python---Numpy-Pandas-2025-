{
 "cells": [
  {
   "cell_type": "code",
   "execution_count": 13,
   "id": "46f97d24",
   "metadata": {},
   "outputs": [],
   "source": [
    "import pandas as pd\n",
    "import numpy as np"
   ]
  },
  {
   "cell_type": "code",
   "execution_count": 81,
   "id": "6d4f8614",
   "metadata": {},
   "outputs": [],
   "source": [
    "np.random.seed(10)\n",
    "paises = {\n",
    "    \"Pais\":[\"peru\",\"italia\",\"venezuela\",\"colombia\"],\n",
    "    \"Capital\":[\"lima\",\"roma\",\"carabaivo\",\"telefe\"],\n",
    "    \"Superficie\":list(np.random.rand(4))\n",
    "}"
   ]
  },
  {
   "cell_type": "code",
   "execution_count": 83,
   "id": "f8f19dbb",
   "metadata": {},
   "outputs": [
    {
     "data": {
      "text/html": [
       "<div>\n",
       "<style scoped>\n",
       "    .dataframe tbody tr th:only-of-type {\n",
       "        vertical-align: middle;\n",
       "    }\n",
       "\n",
       "    .dataframe tbody tr th {\n",
       "        vertical-align: top;\n",
       "    }\n",
       "\n",
       "    .dataframe thead th {\n",
       "        text-align: right;\n",
       "    }\n",
       "</style>\n",
       "<table border=\"1\" class=\"dataframe\">\n",
       "  <thead>\n",
       "    <tr style=\"text-align: right;\">\n",
       "      <th></th>\n",
       "      <th>Pais</th>\n",
       "      <th>Capital</th>\n",
       "      <th>Superficie</th>\n",
       "    </tr>\n",
       "  </thead>\n",
       "  <tbody>\n",
       "    <tr>\n",
       "      <th>0</th>\n",
       "      <td>peru</td>\n",
       "      <td>lima</td>\n",
       "      <td>0.771321</td>\n",
       "    </tr>\n",
       "    <tr>\n",
       "      <th>1</th>\n",
       "      <td>italia</td>\n",
       "      <td>roma</td>\n",
       "      <td>0.020752</td>\n",
       "    </tr>\n",
       "    <tr>\n",
       "      <th>2</th>\n",
       "      <td>venezuela</td>\n",
       "      <td>carabaivo</td>\n",
       "      <td>0.633648</td>\n",
       "    </tr>\n",
       "    <tr>\n",
       "      <th>3</th>\n",
       "      <td>colombia</td>\n",
       "      <td>telefe</td>\n",
       "      <td>0.748804</td>\n",
       "    </tr>\n",
       "  </tbody>\n",
       "</table>\n",
       "</div>"
      ],
      "text/plain": [
       "        Pais    Capital  Superficie\n",
       "0       peru       lima    0.771321\n",
       "1     italia       roma    0.020752\n",
       "2  venezuela  carabaivo    0.633648\n",
       "3   colombia     telefe    0.748804"
      ]
     },
     "execution_count": 83,
     "metadata": {},
     "output_type": "execute_result"
    }
   ],
   "source": [
    "pd.DataFrame(paises)"
   ]
  },
  {
   "cell_type": "code",
   "execution_count": 84,
   "id": "bdb7350a",
   "metadata": {},
   "outputs": [
    {
     "data": {
      "text/html": [
       "<div>\n",
       "<style scoped>\n",
       "    .dataframe tbody tr th:only-of-type {\n",
       "        vertical-align: middle;\n",
       "    }\n",
       "\n",
       "    .dataframe tbody tr th {\n",
       "        vertical-align: top;\n",
       "    }\n",
       "\n",
       "    .dataframe thead th {\n",
       "        text-align: right;\n",
       "    }\n",
       "</style>\n",
       "<table border=\"1\" class=\"dataframe\">\n",
       "  <thead>\n",
       "    <tr style=\"text-align: right;\">\n",
       "      <th></th>\n",
       "      <th>nombre</th>\n",
       "      <th>edad</th>\n",
       "    </tr>\n",
       "  </thead>\n",
       "  <tbody>\n",
       "    <tr>\n",
       "      <th>0</th>\n",
       "      <td>Pedro</td>\n",
       "      <td>40</td>\n",
       "    </tr>\n",
       "    <tr>\n",
       "      <th>1</th>\n",
       "      <td>Lucía</td>\n",
       "      <td>35</td>\n",
       "    </tr>\n",
       "  </tbody>\n",
       "</table>\n",
       "</div>"
      ],
      "text/plain": [
       "  nombre  edad\n",
       "0  Pedro    40\n",
       "1  Lucía    35"
      ]
     },
     "execution_count": 84,
     "metadata": {},
     "output_type": "execute_result"
    }
   ],
   "source": [
    "personas = {\n",
    "    \"familia\": [\n",
    "        {\"nombre\": \"Pedro\", \"edad\": 40},\n",
    "        {\"nombre\": \"Lucía\", \"edad\": 35}\n",
    "    ]\n",
    "}\n",
    "nuevo=pd.DataFrame(personas[\"familia\"])\n",
    "nuevo"
   ]
  },
  {
   "cell_type": "code",
   "execution_count": 85,
   "id": "5180906a",
   "metadata": {},
   "outputs": [],
   "source": [
    "inventario = {\n",
    "    \"Luna\": {\"cantidad\": 12, \"precio\": 125},\n",
    "    \"Lunas\": {\"cantidad\": 12, \"precio\": 125},\n",
    "    \"Lunass\": {\"cantidad\": 12, \"precio\": 125},\n",
    "}\n",
    "inventario[\"gasolina\"]=[5,14.2]\n",
    "inventario[\"gasolina\"]=[15,14.2]\n",
    "inventarios =pd.DataFrame(inventario , index=[\"cantidad\",\"precio\"])"
   ]
  },
  {
   "cell_type": "code",
   "execution_count": 86,
   "id": "19b07eda",
   "metadata": {},
   "outputs": [],
   "source": [
    "def crear_Producto(nombre,cantidad, precio):\n",
    "    if nombre in inventarios:\n",
    "        print(\"ya existe\")\n",
    "    else:\n",
    "        inventarios[nombre]=[cantidad,precio]\n",
    "        print(inventario)"
   ]
  },
  {
   "cell_type": "code",
   "execution_count": 87,
   "id": "29016aff",
   "metadata": {},
   "outputs": [
    {
     "name": "stdout",
     "output_type": "stream",
     "text": [
      "{'Luna': {'cantidad': 12, 'precio': 125}, 'Lunas': {'cantidad': 12, 'precio': 125}, 'Lunass': {'cantidad': 12, 'precio': 125}, 'gasolina': [15, 14.2]}\n"
     ]
    },
    {
     "data": {
      "text/html": [
       "<div>\n",
       "<style scoped>\n",
       "    .dataframe tbody tr th:only-of-type {\n",
       "        vertical-align: middle;\n",
       "    }\n",
       "\n",
       "    .dataframe tbody tr th {\n",
       "        vertical-align: top;\n",
       "    }\n",
       "\n",
       "    .dataframe thead th {\n",
       "        text-align: right;\n",
       "    }\n",
       "</style>\n",
       "<table border=\"1\" class=\"dataframe\">\n",
       "  <thead>\n",
       "    <tr style=\"text-align: right;\">\n",
       "      <th></th>\n",
       "      <th>Luna</th>\n",
       "      <th>Lunas</th>\n",
       "      <th>Lunass</th>\n",
       "      <th>gasolina</th>\n",
       "      <th>mantequilla</th>\n",
       "    </tr>\n",
       "  </thead>\n",
       "  <tbody>\n",
       "    <tr>\n",
       "      <th>cantidad</th>\n",
       "      <td>12</td>\n",
       "      <td>12</td>\n",
       "      <td>12</td>\n",
       "      <td>15.0</td>\n",
       "      <td>15.0</td>\n",
       "    </tr>\n",
       "    <tr>\n",
       "      <th>precio</th>\n",
       "      <td>125</td>\n",
       "      <td>125</td>\n",
       "      <td>125</td>\n",
       "      <td>14.2</td>\n",
       "      <td>12.2</td>\n",
       "    </tr>\n",
       "  </tbody>\n",
       "</table>\n",
       "</div>"
      ],
      "text/plain": [
       "          Luna  Lunas  Lunass  gasolina  mantequilla\n",
       "cantidad    12     12      12      15.0         15.0\n",
       "precio     125    125     125      14.2         12.2"
      ]
     },
     "execution_count": 87,
     "metadata": {},
     "output_type": "execute_result"
    }
   ],
   "source": [
    "crear_Producto(\"mantequilla\",15,12.2)\n",
    "inventarios"
   ]
  },
  {
   "cell_type": "code",
   "execution_count": 60,
   "id": "f5c25520",
   "metadata": {},
   "outputs": [],
   "source": [
    "def ver_producto(nombre):\n",
    "    if nombre in inventarios:\n",
    "        cantidad , precio = inventarios[nombre]\n",
    "        print(f\"{cantidad} , {precio}\")\n",
    "    else:\n",
    "        print(\"no encontrado\")\n",
    " \n",
    "def ver_todo():\n",
    "    for _ , datos in inventarios.items():\n",
    "        print(f\"{datos[0],{datos[1]}}\")\n",
    "         "
   ]
  },
  {
   "cell_type": "code",
   "execution_count": 54,
   "id": "af4572cd",
   "metadata": {},
   "outputs": [
    {
     "name": "stdout",
     "output_type": "stream",
     "text": [
      "(12, {125})\n",
      "(12, {125})\n",
      "(12, {125})\n",
      "(15.0, {14.2})\n",
      "(15.0, {12.2})\n"
     ]
    },
    {
     "name": "stderr",
     "output_type": "stream",
     "text": [
      "C:\\Users\\User\\AppData\\Local\\Temp\\ipykernel_22972\\78885453.py:10: FutureWarning: Series.__getitem__ treating keys as positions is deprecated. In a future version, integer keys will always be treated as labels (consistent with DataFrame behavior). To access a value by position, use `ser.iloc[pos]`\n",
      "  print(f\"{datos[0],{datos[1]}}\")\n"
     ]
    }
   ],
   "source": [
    "ver_todo()"
   ]
  },
  {
   "cell_type": "code",
   "execution_count": 55,
   "id": "82817473",
   "metadata": {},
   "outputs": [],
   "source": [
    "def actualizar(nombre,cantidad:None,precio=None):\n",
    "    if cantidad is not None:\n",
    "        inventarios[nombre][0]= cantidad\n",
    "    if precio is not None:\n",
    "        inventarios[nombre][0]= precio\n",
    "        print(\"actualizado\")\n",
    "    else:\n",
    "        print(\"no existe\")"
   ]
  },
  {
   "cell_type": "code",
   "execution_count": 56,
   "id": "7b542ddb",
   "metadata": {},
   "outputs": [],
   "source": [
    "def eliminar(nombre):\n",
    "    if nombre in inventarios:\n",
    "        del inventarios[nombre]\n",
    "        print(f\"🗑️ Producto '{nombre}' eliminado.\")\n",
    "    else:\n",
    "        print(\"no encontrado\")"
   ]
  },
  {
   "cell_type": "code",
   "execution_count": 65,
   "id": "4c539693",
   "metadata": {},
   "outputs": [
    {
     "name": "stdout",
     "output_type": "stream",
     "text": [
      "15.0 , 12.2\n",
      "(12, {125})\n",
      "(12, {125})\n",
      "(12, {125})\n",
      "(15.0, {12.2})\n",
      "no existe\n",
      "no encontrado\n",
      "🗑️ Producto 'mantequilla' eliminado.\n",
      "no encontrado\n"
     ]
    },
    {
     "name": "stderr",
     "output_type": "stream",
     "text": [
      "C:\\Users\\User\\AppData\\Local\\Temp\\ipykernel_22972\\78885453.py:10: FutureWarning: Series.__getitem__ treating keys as positions is deprecated. In a future version, integer keys will always be treated as labels (consistent with DataFrame behavior). To access a value by position, use `ser.iloc[pos]`\n",
      "  print(f\"{datos[0],{datos[1]}}\")\n",
      "C:\\Users\\User\\AppData\\Local\\Temp\\ipykernel_22972\\2373157044.py:3: SettingWithCopyWarning: \n",
      "A value is trying to be set on a copy of a slice from a DataFrame\n",
      "\n",
      "See the caveats in the documentation: https://pandas.pydata.org/pandas-docs/stable/user_guide/indexing.html#returning-a-view-versus-a-copy\n",
      "  inventarios[nombre][0]= cantidad\n",
      "C:\\Users\\User\\AppData\\Local\\Temp\\ipykernel_22972\\2373157044.py:3: FutureWarning: Series.__setitem__ treating keys as positions is deprecated. In a future version, integer keys will always be treated as labels (consistent with DataFrame behavior). To set a value by position, use `ser.iloc[pos] = value`\n",
      "  inventarios[nombre][0]= cantidad\n"
     ]
    }
   ],
   "source": [
    "\n",
    "ver_producto(\"mantequilla\")\n",
    "\n",
    "\n",
    "ver_todo()\n",
    "\n",
    "\n",
    "actualizar(\"mantequilla\",cantidad=15)\n",
    "ver_producto(\"gasolina\")\n",
    "\n",
    "eliminar(\"mantequilla\")\n",
    "ver_producto(\"mantequilla\")\n"
   ]
  },
  {
   "cell_type": "code",
   "execution_count": 99,
   "id": "4965e8a2",
   "metadata": {},
   "outputs": [],
   "source": [
    "empleados = {\n",
    "    \"E001\": {\"nombre\": \"Carlos\", \"edad\": 30},\n",
    "    \"E002\": {\"nombre\": \"Laura\", \"edad\": 25}\n",
    "}\n",
    "\n",
    "df =pd.DataFrame.from_dict(empleados ,orient=\"index\")"
   ]
  },
  {
   "cell_type": "code",
   "execution_count": 101,
   "id": "b35de247",
   "metadata": {},
   "outputs": [
    {
     "name": "stdout",
     "output_type": "stream",
     "text": [
      "      nombre  edad\n",
      "E001  Carlos    30\n"
     ]
    }
   ],
   "source": [
    "print(df.loc[[\"E001\"]].to_string())  # Muestra los datos de Carlos\n"
   ]
  },
  {
   "cell_type": "code",
   "execution_count": 102,
   "id": "4864e74c",
   "metadata": {},
   "outputs": [],
   "source": [
    "coordenadas = {\n",
    "    (10, 20): \"A\",\n",
    "    (15, 25): \"B\"\n",
    "}\n"
   ]
  },
  {
   "cell_type": "code",
   "execution_count": 119,
   "id": "c6d0ee27",
   "metadata": {},
   "outputs": [
    {
     "name": "stdout",
     "output_type": "stream",
     "text": [
      "dict_items([((10, 20), 'A'), ((15, 25), 'B')])\n",
      "  Coordenadas valor\n",
      "0    (10, 20)     A\n",
      "1    (15, 25)     B\n"
     ]
    },
    {
     "data": {
      "text/html": [
       "<div>\n",
       "<style scoped>\n",
       "    .dataframe tbody tr th:only-of-type {\n",
       "        vertical-align: middle;\n",
       "    }\n",
       "\n",
       "    .dataframe tbody tr th {\n",
       "        vertical-align: top;\n",
       "    }\n",
       "\n",
       "    .dataframe thead th {\n",
       "        text-align: right;\n",
       "    }\n",
       "</style>\n",
       "<table border=\"1\" class=\"dataframe\">\n",
       "  <thead>\n",
       "    <tr style=\"text-align: right;\">\n",
       "      <th></th>\n",
       "      <th>fila</th>\n",
       "      <th>columna</th>\n",
       "      <th>valor</th>\n",
       "    </tr>\n",
       "  </thead>\n",
       "  <tbody>\n",
       "    <tr>\n",
       "      <th>0</th>\n",
       "      <td>10</td>\n",
       "      <td>20</td>\n",
       "      <td>A</td>\n",
       "    </tr>\n",
       "    <tr>\n",
       "      <th>1</th>\n",
       "      <td>15</td>\n",
       "      <td>25</td>\n",
       "      <td>B</td>\n",
       "    </tr>\n",
       "  </tbody>\n",
       "</table>\n",
       "</div>"
      ],
      "text/plain": [
       "   fila  columna valor\n",
       "0    10       20     A\n",
       "1    15       25     B"
      ]
     },
     "execution_count": 119,
     "metadata": {},
     "output_type": "execute_result"
    }
   ],
   "source": [
    "print(coordenadas.items())\n",
    "dfs=pd.DataFrame(coordenadas.items(),columns=[\"Coordenadas\",\"valor\"])\n",
    "print(dfs)\n",
    "dfs[[\"fila\",\"columna\"]] = pd.DataFrame(dfs[\"Coordenadas\"].tolist(), index=dfs.index)\n",
    "dfs = dfs[['fila', 'columna', 'valor']]\n",
    "dfs"
   ]
  },
  {
   "cell_type": "code",
   "execution_count": 128,
   "id": "25ed9bd7",
   "metadata": {},
   "outputs": [
    {
     "data": {
      "text/html": [
       "<div>\n",
       "<style scoped>\n",
       "    .dataframe tbody tr th:only-of-type {\n",
       "        vertical-align: middle;\n",
       "    }\n",
       "\n",
       "    .dataframe tbody tr th {\n",
       "        vertical-align: top;\n",
       "    }\n",
       "\n",
       "    .dataframe thead th {\n",
       "        text-align: right;\n",
       "    }\n",
       "</style>\n",
       "<table border=\"1\" class=\"dataframe\">\n",
       "  <thead>\n",
       "    <tr style=\"text-align: right;\">\n",
       "      <th></th>\n",
       "      <th>Pais</th>\n",
       "      <th>Capital</th>\n",
       "      <th>Superficie</th>\n",
       "    </tr>\n",
       "  </thead>\n",
       "  <tbody>\n",
       "    <tr>\n",
       "      <th>0</th>\n",
       "      <td>peru</td>\n",
       "      <td>lima</td>\n",
       "      <td>1</td>\n",
       "    </tr>\n",
       "    <tr>\n",
       "      <th>1</th>\n",
       "      <td>chile</td>\n",
       "      <td>santiago</td>\n",
       "      <td>2</td>\n",
       "    </tr>\n",
       "    <tr>\n",
       "      <th>2</th>\n",
       "      <td>argentina</td>\n",
       "      <td>buenos aires</td>\n",
       "      <td>3</td>\n",
       "    </tr>\n",
       "    <tr>\n",
       "      <th>3</th>\n",
       "      <td>francia</td>\n",
       "      <td>paris</td>\n",
       "      <td>4</td>\n",
       "    </tr>\n",
       "  </tbody>\n",
       "</table>\n",
       "</div>"
      ],
      "text/plain": [
       "        Pais       Capital  Superficie\n",
       "0       peru          lima           1\n",
       "1      chile      santiago           2\n",
       "2  argentina  buenos aires           3\n",
       "3    francia         paris           4"
      ]
     },
     "execution_count": 128,
     "metadata": {},
     "output_type": "execute_result"
    }
   ],
   "source": [
    "info_paiss ={\n",
    "    \"Pais\":[\"peru\",\"chile\",\"argentina\",\"francia\"],\n",
    "    \"Capital\":[\"lima\",\"santiago\",\"buenos aires\",\"paris\"],\n",
    "    \"Superficie\":list(np.arange(1,5)),\n",
    "}\n",
    "\n",
    "paisess = pd.DataFrame(info_paiss)\n",
    "paisess"
   ]
  },
  {
   "cell_type": "code",
   "execution_count": 132,
   "id": "d2798b5f",
   "metadata": {},
   "outputs": [],
   "source": [
    "assert len(paisess)==4"
   ]
  },
  {
   "cell_type": "code",
   "execution_count": null,
   "id": "de0725e6",
   "metadata": {},
   "outputs": [],
   "source": [
    "assert paisess.query(\"edad\")"
   ]
  },
  {
   "cell_type": "code",
   "execution_count": 159,
   "id": "81f58567",
   "metadata": {},
   "outputs": [],
   "source": [
    "df = pd.DataFrame({\n",
    "    \"Nombre\": [\"Ana\", \"Luis\", \"Pedro\", \"Marta\"],\n",
    "    \"Edad\": [23, 35, 30, 18],\n",
    "    \"Ciudad\": [\"Lima\", \"Bogotá\", \"Madrid\", \"Lima\"]\n",
    "})"
   ]
  },
  {
   "cell_type": "code",
   "execution_count": 147,
   "id": "d8606352",
   "metadata": {},
   "outputs": [],
   "source": [
    "assert len(df)==4\n",
    "\n"
   ]
  },
  {
   "cell_type": "code",
   "execution_count": 160,
   "id": "ce64ad45",
   "metadata": {},
   "outputs": [
    {
     "data": {
      "text/plain": [
       "0    23\n",
       "1    35\n",
       "2    30\n",
       "Name: Edad, dtype: int64"
      ]
     },
     "execution_count": 160,
     "metadata": {},
     "output_type": "execute_result"
    }
   ],
   "source": [
    "edades = df.loc[df[\"Edad\"]>20,\"Edad\"]\n",
    "edades"
   ]
  },
  {
   "cell_type": "code",
   "execution_count": 163,
   "id": "8171e5a7",
   "metadata": {},
   "outputs": [
    {
     "data": {
      "text/html": [
       "<div>\n",
       "<style scoped>\n",
       "    .dataframe tbody tr th:only-of-type {\n",
       "        vertical-align: middle;\n",
       "    }\n",
       "\n",
       "    .dataframe tbody tr th {\n",
       "        vertical-align: top;\n",
       "    }\n",
       "\n",
       "    .dataframe thead th {\n",
       "        text-align: right;\n",
       "    }\n",
       "</style>\n",
       "<table border=\"1\" class=\"dataframe\">\n",
       "  <thead>\n",
       "    <tr style=\"text-align: right;\">\n",
       "      <th></th>\n",
       "      <th>Nombre</th>\n",
       "      <th>Edad</th>\n",
       "      <th>Ciudad</th>\n",
       "    </tr>\n",
       "  </thead>\n",
       "  <tbody>\n",
       "    <tr>\n",
       "      <th>0</th>\n",
       "      <td>Ana</td>\n",
       "      <td>23</td>\n",
       "      <td>Lima</td>\n",
       "    </tr>\n",
       "    <tr>\n",
       "      <th>1</th>\n",
       "      <td>Luis</td>\n",
       "      <td>35</td>\n",
       "      <td>Bogotá</td>\n",
       "    </tr>\n",
       "    <tr>\n",
       "      <th>2</th>\n",
       "      <td>Pedro</td>\n",
       "      <td>30</td>\n",
       "      <td>Madrid</td>\n",
       "    </tr>\n",
       "    <tr>\n",
       "      <th>3</th>\n",
       "      <td>Marta</td>\n",
       "      <td>18</td>\n",
       "      <td>Lima</td>\n",
       "    </tr>\n",
       "  </tbody>\n",
       "</table>\n",
       "</div>"
      ],
      "text/plain": [
       "  Nombre  Edad  Ciudad\n",
       "0    Ana    23    Lima\n",
       "1   Luis    35  Bogotá\n",
       "2  Pedro    30  Madrid\n",
       "3  Marta    18    Lima"
      ]
     },
     "execution_count": 163,
     "metadata": {},
     "output_type": "execute_result"
    }
   ],
   "source": [
    "df"
   ]
  },
  {
   "cell_type": "code",
   "execution_count": 164,
   "id": "b41ce73f",
   "metadata": {},
   "outputs": [
    {
     "data": {
      "text/html": [
       "<div>\n",
       "<style scoped>\n",
       "    .dataframe tbody tr th:only-of-type {\n",
       "        vertical-align: middle;\n",
       "    }\n",
       "\n",
       "    .dataframe tbody tr th {\n",
       "        vertical-align: top;\n",
       "    }\n",
       "\n",
       "    .dataframe thead th {\n",
       "        text-align: right;\n",
       "    }\n",
       "</style>\n",
       "<table border=\"1\" class=\"dataframe\">\n",
       "  <thead>\n",
       "    <tr style=\"text-align: right;\">\n",
       "      <th></th>\n",
       "      <th>Edad</th>\n",
       "      <th>Ciudad</th>\n",
       "    </tr>\n",
       "    <tr>\n",
       "      <th>Nombre</th>\n",
       "      <th></th>\n",
       "      <th></th>\n",
       "    </tr>\n",
       "  </thead>\n",
       "  <tbody>\n",
       "    <tr>\n",
       "      <th>Ana</th>\n",
       "      <td>23</td>\n",
       "      <td>Lima</td>\n",
       "    </tr>\n",
       "    <tr>\n",
       "      <th>Luis</th>\n",
       "      <td>35</td>\n",
       "      <td>Bogotá</td>\n",
       "    </tr>\n",
       "    <tr>\n",
       "      <th>Pedro</th>\n",
       "      <td>30</td>\n",
       "      <td>Madrid</td>\n",
       "    </tr>\n",
       "    <tr>\n",
       "      <th>Marta</th>\n",
       "      <td>18</td>\n",
       "      <td>Lima</td>\n",
       "    </tr>\n",
       "  </tbody>\n",
       "</table>\n",
       "</div>"
      ],
      "text/plain": [
       "        Edad  Ciudad\n",
       "Nombre              \n",
       "Ana       23    Lima\n",
       "Luis      35  Bogotá\n",
       "Pedro     30  Madrid\n",
       "Marta     18    Lima"
      ]
     },
     "execution_count": 164,
     "metadata": {},
     "output_type": "execute_result"
    }
   ],
   "source": [
    "df.set_index(\"Nombre\")"
   ]
  },
  {
   "cell_type": "code",
   "execution_count": 169,
   "id": "98e2e835",
   "metadata": {},
   "outputs": [
    {
     "data": {
      "text/html": [
       "<div>\n",
       "<style scoped>\n",
       "    .dataframe tbody tr th:only-of-type {\n",
       "        vertical-align: middle;\n",
       "    }\n",
       "\n",
       "    .dataframe tbody tr th {\n",
       "        vertical-align: top;\n",
       "    }\n",
       "\n",
       "    .dataframe thead th {\n",
       "        text-align: right;\n",
       "    }\n",
       "</style>\n",
       "<table border=\"1\" class=\"dataframe\">\n",
       "  <thead>\n",
       "    <tr style=\"text-align: right;\">\n",
       "      <th></th>\n",
       "      <th>Nombre</th>\n",
       "      <th>Ciudad</th>\n",
       "    </tr>\n",
       "  </thead>\n",
       "  <tbody>\n",
       "    <tr>\n",
       "      <th>0</th>\n",
       "      <td>Ana</td>\n",
       "      <td>Lima</td>\n",
       "    </tr>\n",
       "    <tr>\n",
       "      <th>1</th>\n",
       "      <td>Luis</td>\n",
       "      <td>Bogotá</td>\n",
       "    </tr>\n",
       "    <tr>\n",
       "      <th>2</th>\n",
       "      <td>Pedro</td>\n",
       "      <td>Madrid</td>\n",
       "    </tr>\n",
       "  </tbody>\n",
       "</table>\n",
       "</div>"
      ],
      "text/plain": [
       "  Nombre  Ciudad\n",
       "0    Ana    Lima\n",
       "1   Luis  Bogotá\n",
       "2  Pedro  Madrid"
      ]
     },
     "execution_count": 169,
     "metadata": {},
     "output_type": "execute_result"
    }
   ],
   "source": [
    "edad = df.loc[df[\"Edad\"]>20,[\"Nombre\",\"Ciudad\"]]\n",
    "edad"
   ]
  },
  {
   "cell_type": "code",
   "execution_count": 171,
   "id": "0d1457c1",
   "metadata": {},
   "outputs": [
    {
     "data": {
      "text/plain": [
       "array([['Luis', 35, 'Bogotá']], dtype=object)"
      ]
     },
     "execution_count": 171,
     "metadata": {},
     "output_type": "execute_result"
    }
   ],
   "source": [
    "nombres = df.loc[df[\"Nombre\"]==\"Luis\"].values\n",
    "nombres"
   ]
  },
  {
   "cell_type": "code",
   "execution_count": 178,
   "id": "29e2cf1e",
   "metadata": {},
   "outputs": [
    {
     "data": {
      "text/plain": [
       "Nombre    AnaMarta\n",
       "Edad            41\n",
       "Ciudad    LimaLima\n",
       "dtype: object"
      ]
     },
     "execution_count": 178,
     "metadata": {},
     "output_type": "execute_result"
    }
   ],
   "source": [
    "ciudades = df.loc[df[\"Ciudad\"]==\"Lima\"].sum()\n",
    "ciudades"
   ]
  },
  {
   "cell_type": "code",
   "execution_count": 228,
   "id": "887607a6",
   "metadata": {},
   "outputs": [
    {
     "data": {
      "text/html": [
       "<div>\n",
       "<style scoped>\n",
       "    .dataframe tbody tr th:only-of-type {\n",
       "        vertical-align: middle;\n",
       "    }\n",
       "\n",
       "    .dataframe tbody tr th {\n",
       "        vertical-align: top;\n",
       "    }\n",
       "\n",
       "    .dataframe thead th {\n",
       "        text-align: right;\n",
       "    }\n",
       "</style>\n",
       "<table border=\"1\" class=\"dataframe\">\n",
       "  <thead>\n",
       "    <tr style=\"text-align: right;\">\n",
       "      <th></th>\n",
       "      <th>Nombre</th>\n",
       "      <th>Edad</th>\n",
       "      <th>Ciudad</th>\n",
       "      <th>Puntaje</th>\n",
       "    </tr>\n",
       "  </thead>\n",
       "  <tbody>\n",
       "    <tr>\n",
       "      <th>0</th>\n",
       "      <td>Ana</td>\n",
       "      <td>25</td>\n",
       "      <td>Lima</td>\n",
       "      <td>14</td>\n",
       "    </tr>\n",
       "    <tr>\n",
       "      <th>1</th>\n",
       "      <td>Luis</td>\n",
       "      <td>19</td>\n",
       "      <td>Arequipa</td>\n",
       "      <td>9</td>\n",
       "    </tr>\n",
       "    <tr>\n",
       "      <th>2</th>\n",
       "      <td>María</td>\n",
       "      <td>30</td>\n",
       "      <td>Lima</td>\n",
       "      <td>18</td>\n",
       "    </tr>\n",
       "  </tbody>\n",
       "</table>\n",
       "</div>"
      ],
      "text/plain": [
       "  Nombre  Edad    Ciudad  Puntaje\n",
       "0    Ana    25      Lima       14\n",
       "1   Luis    19  Arequipa        9\n",
       "2  María    30      Lima       18"
      ]
     },
     "execution_count": 228,
     "metadata": {},
     "output_type": "execute_result"
    }
   ],
   "source": [
    "import numpy as np\n",
    "registros = pd.DataFrame({\"Nombre\": [\"Ana\", \"Luis\", \"María\", \"Pedro\", \"Lucía\"],\n",
    "    \"Edad\": [25, 19, 30, 22, 18],\n",
    "    \"Ciudad\": [\"Lima\", \"Arequipa\", \"Lima\", \"Cusco\", \"Lima\"],\n",
    "    \"Puntaje\": [14, 9, 18, 12, 17]\n",
    "})\n",
    "registros.head(3)\n"
   ]
  },
  {
   "cell_type": "code",
   "execution_count": 230,
   "id": "8e060899",
   "metadata": {},
   "outputs": [
    {
     "data": {
      "text/plain": [
       "['Ana', 'Luis', 'María', 'Pedro', 'Lucía']"
      ]
     },
     "execution_count": 230,
     "metadata": {},
     "output_type": "execute_result"
    }
   ],
   "source": [
    "registros[\"Nombre\"].to_list()"
   ]
  },
  {
   "cell_type": "code",
   "execution_count": 215,
   "id": "6aa7c81b",
   "metadata": {},
   "outputs": [
    {
     "data": {
      "text/plain": [
       "2.5"
      ]
     },
     "execution_count": 215,
     "metadata": {},
     "output_type": "execute_result"
    }
   ],
   "source": [
    "promedio = registros[\"Edad\"].mean()\n",
    "promedio"
   ]
  },
  {
   "cell_type": "code",
   "execution_count": 223,
   "id": "186ff9c9",
   "metadata": {},
   "outputs": [
    {
     "data": {
      "text/html": [
       "<div>\n",
       "<style scoped>\n",
       "    .dataframe tbody tr th:only-of-type {\n",
       "        vertical-align: middle;\n",
       "    }\n",
       "\n",
       "    .dataframe tbody tr th {\n",
       "        vertical-align: top;\n",
       "    }\n",
       "\n",
       "    .dataframe thead th {\n",
       "        text-align: right;\n",
       "    }\n",
       "</style>\n",
       "<table border=\"1\" class=\"dataframe\">\n",
       "  <thead>\n",
       "    <tr style=\"text-align: right;\">\n",
       "      <th></th>\n",
       "      <th>Nombre</th>\n",
       "      <th>Edad</th>\n",
       "      <th>Ciudad</th>\n",
       "      <th>Puntaje</th>\n",
       "    </tr>\n",
       "  </thead>\n",
       "  <tbody>\n",
       "    <tr>\n",
       "      <th>0</th>\n",
       "      <td>peru</td>\n",
       "      <td>1</td>\n",
       "      <td>lima</td>\n",
       "      <td>1</td>\n",
       "    </tr>\n",
       "  </tbody>\n",
       "</table>\n",
       "</div>"
      ],
      "text/plain": [
       "  Nombre  Edad Ciudad  Puntaje\n",
       "0   peru     1   lima        1"
      ]
     },
     "execution_count": 223,
     "metadata": {},
     "output_type": "execute_result"
    }
   ],
   "source": [
    "lima = registros.loc[registros[\"Ciudad\"]==\"lima\"]\n",
    "lima\n"
   ]
  },
  {
   "cell_type": "code",
   "execution_count": 231,
   "id": "219d63d1",
   "metadata": {},
   "outputs": [
    {
     "data": {
      "text/html": [
       "<div>\n",
       "<style scoped>\n",
       "    .dataframe tbody tr th:only-of-type {\n",
       "        vertical-align: middle;\n",
       "    }\n",
       "\n",
       "    .dataframe tbody tr th {\n",
       "        vertical-align: top;\n",
       "    }\n",
       "\n",
       "    .dataframe thead th {\n",
       "        text-align: right;\n",
       "    }\n",
       "</style>\n",
       "<table border=\"1\" class=\"dataframe\">\n",
       "  <thead>\n",
       "    <tr style=\"text-align: right;\">\n",
       "      <th></th>\n",
       "      <th>Nombre</th>\n",
       "      <th>Edad</th>\n",
       "      <th>Ciudad</th>\n",
       "      <th>Puntaje</th>\n",
       "      <th>Edad_doble</th>\n",
       "    </tr>\n",
       "  </thead>\n",
       "  <tbody>\n",
       "    <tr>\n",
       "      <th>0</th>\n",
       "      <td>Ana</td>\n",
       "      <td>25</td>\n",
       "      <td>Lima</td>\n",
       "      <td>14</td>\n",
       "      <td>50</td>\n",
       "    </tr>\n",
       "    <tr>\n",
       "      <th>1</th>\n",
       "      <td>Luis</td>\n",
       "      <td>19</td>\n",
       "      <td>Arequipa</td>\n",
       "      <td>9</td>\n",
       "      <td>38</td>\n",
       "    </tr>\n",
       "    <tr>\n",
       "      <th>2</th>\n",
       "      <td>María</td>\n",
       "      <td>30</td>\n",
       "      <td>Lima</td>\n",
       "      <td>18</td>\n",
       "      <td>60</td>\n",
       "    </tr>\n",
       "    <tr>\n",
       "      <th>3</th>\n",
       "      <td>Pedro</td>\n",
       "      <td>22</td>\n",
       "      <td>Cusco</td>\n",
       "      <td>12</td>\n",
       "      <td>44</td>\n",
       "    </tr>\n",
       "    <tr>\n",
       "      <th>4</th>\n",
       "      <td>Lucía</td>\n",
       "      <td>18</td>\n",
       "      <td>Lima</td>\n",
       "      <td>17</td>\n",
       "      <td>36</td>\n",
       "    </tr>\n",
       "  </tbody>\n",
       "</table>\n",
       "</div>"
      ],
      "text/plain": [
       "  Nombre  Edad    Ciudad  Puntaje  Edad_doble\n",
       "0    Ana    25      Lima       14          50\n",
       "1   Luis    19  Arequipa        9          38\n",
       "2  María    30      Lima       18          60\n",
       "3  Pedro    22     Cusco       12          44\n",
       "4  Lucía    18      Lima       17          36"
      ]
     },
     "execution_count": 231,
     "metadata": {},
     "output_type": "execute_result"
    }
   ],
   "source": [
    "registros[\"Edad_doble\"]= registros[\"Edad\"]*2\n",
    "registros"
   ]
  },
  {
   "cell_type": "code",
   "execution_count": 233,
   "id": "12e781e8",
   "metadata": {},
   "outputs": [
    {
     "data": {
      "text/html": [
       "<div>\n",
       "<style scoped>\n",
       "    .dataframe tbody tr th:only-of-type {\n",
       "        vertical-align: middle;\n",
       "    }\n",
       "\n",
       "    .dataframe tbody tr th {\n",
       "        vertical-align: top;\n",
       "    }\n",
       "\n",
       "    .dataframe thead th {\n",
       "        text-align: right;\n",
       "    }\n",
       "</style>\n",
       "<table border=\"1\" class=\"dataframe\">\n",
       "  <thead>\n",
       "    <tr style=\"text-align: right;\">\n",
       "      <th></th>\n",
       "      <th>Nombre</th>\n",
       "      <th>Edad</th>\n",
       "      <th>Ciudad</th>\n",
       "      <th>Puntaje</th>\n",
       "      <th>Edad_doble</th>\n",
       "    </tr>\n",
       "  </thead>\n",
       "  <tbody>\n",
       "    <tr>\n",
       "      <th>0</th>\n",
       "      <td>Ana</td>\n",
       "      <td>25</td>\n",
       "      <td>Arequipa</td>\n",
       "      <td>14</td>\n",
       "      <td>50</td>\n",
       "    </tr>\n",
       "    <tr>\n",
       "      <th>1</th>\n",
       "      <td>Luis</td>\n",
       "      <td>19</td>\n",
       "      <td>Arequipa</td>\n",
       "      <td>9</td>\n",
       "      <td>38</td>\n",
       "    </tr>\n",
       "    <tr>\n",
       "      <th>2</th>\n",
       "      <td>María</td>\n",
       "      <td>30</td>\n",
       "      <td>Arequipa</td>\n",
       "      <td>18</td>\n",
       "      <td>60</td>\n",
       "    </tr>\n",
       "    <tr>\n",
       "      <th>3</th>\n",
       "      <td>Pedro</td>\n",
       "      <td>22</td>\n",
       "      <td>Cusco</td>\n",
       "      <td>12</td>\n",
       "      <td>44</td>\n",
       "    </tr>\n",
       "    <tr>\n",
       "      <th>4</th>\n",
       "      <td>Lucía</td>\n",
       "      <td>18</td>\n",
       "      <td>Arequipa</td>\n",
       "      <td>17</td>\n",
       "      <td>36</td>\n",
       "    </tr>\n",
       "  </tbody>\n",
       "</table>\n",
       "</div>"
      ],
      "text/plain": [
       "  Nombre  Edad    Ciudad  Puntaje  Edad_doble\n",
       "0    Ana    25  Arequipa       14          50\n",
       "1   Luis    19  Arequipa        9          38\n",
       "2  María    30  Arequipa       18          60\n",
       "3  Pedro    22     Cusco       12          44\n",
       "4  Lucía    18  Arequipa       17          36"
      ]
     },
     "execution_count": 233,
     "metadata": {},
     "output_type": "execute_result"
    }
   ],
   "source": [
    "registros[\"Ciudad\"]= registros[\"Ciudad\"].replace(\"Lima\",\"Arequipa\")\n",
    "registros"
   ]
  },
  {
   "cell_type": "code",
   "execution_count": 237,
   "id": "50fa32c7",
   "metadata": {},
   "outputs": [
    {
     "data": {
      "text/html": [
       "<div>\n",
       "<style scoped>\n",
       "    .dataframe tbody tr th:only-of-type {\n",
       "        vertical-align: middle;\n",
       "    }\n",
       "\n",
       "    .dataframe tbody tr th {\n",
       "        vertical-align: top;\n",
       "    }\n",
       "\n",
       "    .dataframe thead th {\n",
       "        text-align: right;\n",
       "    }\n",
       "</style>\n",
       "<table border=\"1\" class=\"dataframe\">\n",
       "  <thead>\n",
       "    <tr style=\"text-align: right;\">\n",
       "      <th></th>\n",
       "      <th>Nombre</th>\n",
       "      <th>Edad</th>\n",
       "      <th>Ciudad</th>\n",
       "      <th>Puntaje</th>\n",
       "      <th>Edad_doble</th>\n",
       "    </tr>\n",
       "  </thead>\n",
       "  <tbody>\n",
       "    <tr>\n",
       "      <th>2</th>\n",
       "      <td>María</td>\n",
       "      <td>30</td>\n",
       "      <td>Arequipa</td>\n",
       "      <td>18</td>\n",
       "      <td>60</td>\n",
       "    </tr>\n",
       "    <tr>\n",
       "      <th>4</th>\n",
       "      <td>Lucía</td>\n",
       "      <td>18</td>\n",
       "      <td>Arequipa</td>\n",
       "      <td>17</td>\n",
       "      <td>36</td>\n",
       "    </tr>\n",
       "    <tr>\n",
       "      <th>0</th>\n",
       "      <td>Ana</td>\n",
       "      <td>25</td>\n",
       "      <td>Arequipa</td>\n",
       "      <td>14</td>\n",
       "      <td>50</td>\n",
       "    </tr>\n",
       "    <tr>\n",
       "      <th>3</th>\n",
       "      <td>Pedro</td>\n",
       "      <td>22</td>\n",
       "      <td>Cusco</td>\n",
       "      <td>12</td>\n",
       "      <td>44</td>\n",
       "    </tr>\n",
       "    <tr>\n",
       "      <th>1</th>\n",
       "      <td>Luis</td>\n",
       "      <td>19</td>\n",
       "      <td>Arequipa</td>\n",
       "      <td>9</td>\n",
       "      <td>38</td>\n",
       "    </tr>\n",
       "  </tbody>\n",
       "</table>\n",
       "</div>"
      ],
      "text/plain": [
       "  Nombre  Edad    Ciudad  Puntaje  Edad_doble\n",
       "2  María    30  Arequipa       18          60\n",
       "4  Lucía    18  Arequipa       17          36\n",
       "0    Ana    25  Arequipa       14          50\n",
       "3  Pedro    22     Cusco       12          44\n",
       "1   Luis    19  Arequipa        9          38"
      ]
     },
     "execution_count": 237,
     "metadata": {},
     "output_type": "execute_result"
    }
   ],
   "source": [
    "df_ordenado = registros.sort_values(by=\"Puntaje\", ascending=False)\n",
    "df_ordenado"
   ]
  },
  {
   "cell_type": "code",
   "execution_count": 239,
   "id": "740ff9ef",
   "metadata": {},
   "outputs": [
    {
     "data": {
      "text/html": [
       "<div>\n",
       "<style scoped>\n",
       "    .dataframe tbody tr th:only-of-type {\n",
       "        vertical-align: middle;\n",
       "    }\n",
       "\n",
       "    .dataframe tbody tr th {\n",
       "        vertical-align: top;\n",
       "    }\n",
       "\n",
       "    .dataframe thead th {\n",
       "        text-align: right;\n",
       "    }\n",
       "</style>\n",
       "<table border=\"1\" class=\"dataframe\">\n",
       "  <thead>\n",
       "    <tr style=\"text-align: right;\">\n",
       "      <th></th>\n",
       "      <th>Nombre</th>\n",
       "      <th>Edad</th>\n",
       "      <th>Ciudad</th>\n",
       "      <th>Puntaje</th>\n",
       "    </tr>\n",
       "  </thead>\n",
       "  <tbody>\n",
       "    <tr>\n",
       "      <th>0</th>\n",
       "      <td>Ana</td>\n",
       "      <td>25</td>\n",
       "      <td>Arequipa</td>\n",
       "      <td>14</td>\n",
       "    </tr>\n",
       "    <tr>\n",
       "      <th>1</th>\n",
       "      <td>Luis</td>\n",
       "      <td>19</td>\n",
       "      <td>Arequipa</td>\n",
       "      <td>9</td>\n",
       "    </tr>\n",
       "    <tr>\n",
       "      <th>2</th>\n",
       "      <td>María</td>\n",
       "      <td>30</td>\n",
       "      <td>Arequipa</td>\n",
       "      <td>18</td>\n",
       "    </tr>\n",
       "    <tr>\n",
       "      <th>3</th>\n",
       "      <td>Pedro</td>\n",
       "      <td>22</td>\n",
       "      <td>Cusco</td>\n",
       "      <td>12</td>\n",
       "    </tr>\n",
       "    <tr>\n",
       "      <th>4</th>\n",
       "      <td>Lucía</td>\n",
       "      <td>18</td>\n",
       "      <td>Arequipa</td>\n",
       "      <td>17</td>\n",
       "    </tr>\n",
       "  </tbody>\n",
       "</table>\n",
       "</div>"
      ],
      "text/plain": [
       "  Nombre  Edad    Ciudad  Puntaje\n",
       "0    Ana    25  Arequipa       14\n",
       "1   Luis    19  Arequipa        9\n",
       "2  María    30  Arequipa       18\n",
       "3  Pedro    22     Cusco       12\n",
       "4  Lucía    18  Arequipa       17"
      ]
     },
     "execution_count": 239,
     "metadata": {},
     "output_type": "execute_result"
    }
   ],
   "source": [
    "registros.drop(\"Edad_doble\" , axis=1 ,inplace=True)\n",
    "registros"
   ]
  },
  {
   "cell_type": "code",
   "execution_count": 244,
   "id": "b4ff5cdf",
   "metadata": {},
   "outputs": [
    {
     "data": {
      "text/html": [
       "<div>\n",
       "<style scoped>\n",
       "    .dataframe tbody tr th:only-of-type {\n",
       "        vertical-align: middle;\n",
       "    }\n",
       "\n",
       "    .dataframe tbody tr th {\n",
       "        vertical-align: top;\n",
       "    }\n",
       "\n",
       "    .dataframe thead th {\n",
       "        text-align: right;\n",
       "    }\n",
       "</style>\n",
       "<table border=\"1\" class=\"dataframe\">\n",
       "  <thead>\n",
       "    <tr style=\"text-align: right;\">\n",
       "      <th></th>\n",
       "      <th>Nombre</th>\n",
       "      <th>Edad</th>\n",
       "      <th>Ciudad</th>\n",
       "      <th>Calificacion</th>\n",
       "    </tr>\n",
       "  </thead>\n",
       "  <tbody>\n",
       "    <tr>\n",
       "      <th>0</th>\n",
       "      <td>Ana</td>\n",
       "      <td>25</td>\n",
       "      <td>Arequipa</td>\n",
       "      <td>14</td>\n",
       "    </tr>\n",
       "    <tr>\n",
       "      <th>1</th>\n",
       "      <td>Luis</td>\n",
       "      <td>19</td>\n",
       "      <td>Arequipa</td>\n",
       "      <td>9</td>\n",
       "    </tr>\n",
       "    <tr>\n",
       "      <th>2</th>\n",
       "      <td>María</td>\n",
       "      <td>30</td>\n",
       "      <td>Arequipa</td>\n",
       "      <td>18</td>\n",
       "    </tr>\n",
       "    <tr>\n",
       "      <th>3</th>\n",
       "      <td>Pedro</td>\n",
       "      <td>22</td>\n",
       "      <td>Cusco</td>\n",
       "      <td>12</td>\n",
       "    </tr>\n",
       "    <tr>\n",
       "      <th>4</th>\n",
       "      <td>Lucía</td>\n",
       "      <td>18</td>\n",
       "      <td>Arequipa</td>\n",
       "      <td>17</td>\n",
       "    </tr>\n",
       "  </tbody>\n",
       "</table>\n",
       "</div>"
      ],
      "text/plain": [
       "  Nombre  Edad    Ciudad  Calificacion\n",
       "0    Ana    25  Arequipa            14\n",
       "1   Luis    19  Arequipa             9\n",
       "2  María    30  Arequipa            18\n",
       "3  Pedro    22     Cusco            12\n",
       "4  Lucía    18  Arequipa            17"
      ]
     },
     "execution_count": 244,
     "metadata": {},
     "output_type": "execute_result"
    }
   ],
   "source": [
    "registros.rename(columns={\"Puntaje\":\"Calificacion\"},inplace=True)\n",
    "registros"
   ]
  },
  {
   "cell_type": "code",
   "execution_count": 246,
   "id": "69795613",
   "metadata": {},
   "outputs": [
    {
     "data": {
      "text/plain": [
       "Ciudad\n",
       "Arequipa    23.0\n",
       "Cusco       22.0\n",
       "Name: Edad, dtype: float64"
      ]
     },
     "execution_count": 246,
     "metadata": {},
     "output_type": "execute_result"
    }
   ],
   "source": [
    "registros.groupby(\"Ciudad\")[\"Edad\"].mean()"
   ]
  },
  {
   "cell_type": "code",
   "execution_count": 247,
   "id": "4ca42f2e",
   "metadata": {},
   "outputs": [
    {
     "data": {
      "text/plain": [
       "Ciudad\n",
       "Arequipa    4\n",
       "Cusco       1\n",
       "Name: Nombre, dtype: int64"
      ]
     },
     "execution_count": 247,
     "metadata": {},
     "output_type": "execute_result"
    }
   ],
   "source": [
    "registros.groupby(\"Ciudad\")[\"Nombre\"].count()\n"
   ]
  },
  {
   "cell_type": "code",
   "execution_count": 252,
   "id": "927be4c1",
   "metadata": {},
   "outputs": [],
   "source": [
    "p = registros[\"Calificacion\"].mean()"
   ]
  },
  {
   "cell_type": "code",
   "execution_count": 257,
   "id": "c677e8a1",
   "metadata": {},
   "outputs": [
    {
     "data": {
      "text/plain": [
       "<bound method Series.count of 2    María\n",
       "4    Lucía\n",
       "Name: Nombre, dtype: object>"
      ]
     },
     "execution_count": 257,
     "metadata": {},
     "output_type": "execute_result"
    }
   ],
   "source": [
    "nuevo = registros.loc[registros[\"Calificacion\"]>p,\"Nombre\"].count\n",
    "nuevo"
   ]
  },
  {
   "cell_type": "code",
   "execution_count": 259,
   "id": "f0006387",
   "metadata": {},
   "outputs": [
    {
     "data": {
      "text/html": [
       "<div>\n",
       "<style scoped>\n",
       "    .dataframe tbody tr th:only-of-type {\n",
       "        vertical-align: middle;\n",
       "    }\n",
       "\n",
       "    .dataframe tbody tr th {\n",
       "        vertical-align: top;\n",
       "    }\n",
       "\n",
       "    .dataframe thead th {\n",
       "        text-align: right;\n",
       "    }\n",
       "</style>\n",
       "<table border=\"1\" class=\"dataframe\">\n",
       "  <thead>\n",
       "    <tr style=\"text-align: right;\">\n",
       "      <th></th>\n",
       "      <th>Nombre</th>\n",
       "      <th>Edad</th>\n",
       "      <th>Ciudad</th>\n",
       "      <th>Calificacion</th>\n",
       "      <th>APROBADOS</th>\n",
       "    </tr>\n",
       "  </thead>\n",
       "  <tbody>\n",
       "    <tr>\n",
       "      <th>0</th>\n",
       "      <td>Ana</td>\n",
       "      <td>25</td>\n",
       "      <td>Arequipa</td>\n",
       "      <td>14</td>\n",
       "      <td>Si</td>\n",
       "    </tr>\n",
       "    <tr>\n",
       "      <th>1</th>\n",
       "      <td>Luis</td>\n",
       "      <td>19</td>\n",
       "      <td>Arequipa</td>\n",
       "      <td>9</td>\n",
       "      <td>No</td>\n",
       "    </tr>\n",
       "    <tr>\n",
       "      <th>2</th>\n",
       "      <td>María</td>\n",
       "      <td>30</td>\n",
       "      <td>Arequipa</td>\n",
       "      <td>18</td>\n",
       "      <td>Si</td>\n",
       "    </tr>\n",
       "    <tr>\n",
       "      <th>3</th>\n",
       "      <td>Pedro</td>\n",
       "      <td>22</td>\n",
       "      <td>Cusco</td>\n",
       "      <td>12</td>\n",
       "      <td>No</td>\n",
       "    </tr>\n",
       "    <tr>\n",
       "      <th>4</th>\n",
       "      <td>Lucía</td>\n",
       "      <td>18</td>\n",
       "      <td>Arequipa</td>\n",
       "      <td>17</td>\n",
       "      <td>Si</td>\n",
       "    </tr>\n",
       "  </tbody>\n",
       "</table>\n",
       "</div>"
      ],
      "text/plain": [
       "  Nombre  Edad    Ciudad  Calificacion APROBADOS\n",
       "0    Ana    25  Arequipa            14        Si\n",
       "1   Luis    19  Arequipa             9        No\n",
       "2  María    30  Arequipa            18        Si\n",
       "3  Pedro    22     Cusco            12        No\n",
       "4  Lucía    18  Arequipa            17        Si"
      ]
     },
     "execution_count": 259,
     "metadata": {},
     "output_type": "execute_result"
    }
   ],
   "source": [
    "registros[\"APROBADOS\"] = registros[\"Calificacion\"].apply(lambda x : \"Si\" if x>=13 else \"No\" )\n",
    "registros"
   ]
  },
  {
   "cell_type": "code",
   "execution_count": 261,
   "id": "9c314846",
   "metadata": {},
   "outputs": [
    {
     "data": {
      "text/plain": [
       "Nombre          0\n",
       "Edad            0\n",
       "Ciudad          0\n",
       "Calificacion    0\n",
       "APROBADOS       0\n",
       "dtype: int64"
      ]
     },
     "execution_count": 261,
     "metadata": {},
     "output_type": "execute_result"
    }
   ],
   "source": [
    "registros.isnull().sum()"
   ]
  },
  {
   "cell_type": "code",
   "execution_count": 270,
   "id": "71910467",
   "metadata": {},
   "outputs": [
    {
     "data": {
      "text/html": [
       "<div>\n",
       "<style scoped>\n",
       "    .dataframe tbody tr th:only-of-type {\n",
       "        vertical-align: middle;\n",
       "    }\n",
       "\n",
       "    .dataframe tbody tr th {\n",
       "        vertical-align: top;\n",
       "    }\n",
       "\n",
       "    .dataframe thead th {\n",
       "        text-align: right;\n",
       "    }\n",
       "</style>\n",
       "<table border=\"1\" class=\"dataframe\">\n",
       "  <thead>\n",
       "    <tr style=\"text-align: right;\">\n",
       "      <th></th>\n",
       "      <th>a</th>\n",
       "      <th>b</th>\n",
       "      <th>c</th>\n",
       "      <th>d</th>\n",
       "    </tr>\n",
       "  </thead>\n",
       "  <tbody>\n",
       "    <tr>\n",
       "      <th>0</th>\n",
       "      <td>1</td>\n",
       "      <td>3</td>\n",
       "      <td>4</td>\n",
       "      <td>15</td>\n",
       "    </tr>\n",
       "    <tr>\n",
       "      <th>1</th>\n",
       "      <td>16</td>\n",
       "      <td>4</td>\n",
       "      <td>12</td>\n",
       "      <td>3</td>\n",
       "    </tr>\n",
       "    <tr>\n",
       "      <th>2</th>\n",
       "      <td>15</td>\n",
       "      <td>7</td>\n",
       "      <td>14</td>\n",
       "      <td>11</td>\n",
       "    </tr>\n",
       "    <tr>\n",
       "      <th>3</th>\n",
       "      <td>12</td>\n",
       "      <td>1</td>\n",
       "      <td>6</td>\n",
       "      <td>14</td>\n",
       "    </tr>\n",
       "  </tbody>\n",
       "</table>\n",
       "</div>"
      ],
      "text/plain": [
       "    a  b   c   d\n",
       "0   1  3   4  15\n",
       "1  16  4  12   3\n",
       "2  15  7  14  11\n",
       "3  12  1   6  14"
      ]
     },
     "execution_count": 270,
     "metadata": {},
     "output_type": "execute_result"
    }
   ],
   "source": [
    "data = np.random.randint(1,17,size=(4,4))\n",
    "dfss = pd.DataFrame(data , columns=[\"a\",\"b\",\"c\",\"d\"])\n",
    "dfss"
   ]
  },
  {
   "cell_type": "code",
   "execution_count": 275,
   "id": "10c4a908",
   "metadata": {},
   "outputs": [
    {
     "data": {
      "text/plain": [
       "array([3, 4, 7, 1])"
      ]
     },
     "execution_count": 275,
     "metadata": {},
     "output_type": "execute_result"
    }
   ],
   "source": [
    "datos = dfss[\"b\"].values\n",
    "datos"
   ]
  },
  {
   "cell_type": "code",
   "execution_count": 277,
   "id": "c0fea871",
   "metadata": {},
   "outputs": [
    {
     "data": {
      "text/plain": [
       "a    11.00\n",
       "b     3.75\n",
       "c     9.00\n",
       "d    10.75\n",
       "dtype: float64"
      ]
     },
     "execution_count": 277,
     "metadata": {},
     "output_type": "execute_result"
    }
   ],
   "source": [
    "media = dfss.mean()\n",
    "media"
   ]
  }
 ],
 "metadata": {
  "kernelspec": {
   "display_name": "base",
   "language": "python",
   "name": "python3"
  },
  "language_info": {
   "codemirror_mode": {
    "name": "ipython",
    "version": 3
   },
   "file_extension": ".py",
   "mimetype": "text/x-python",
   "name": "python",
   "nbconvert_exporter": "python",
   "pygments_lexer": "ipython3",
   "version": "3.12.7"
  }
 },
 "nbformat": 4,
 "nbformat_minor": 5
}
