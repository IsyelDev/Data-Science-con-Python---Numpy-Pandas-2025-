{
 "cells": [
  {
   "cell_type": "code",
   "execution_count": 30,
   "id": "52d4ea38",
   "metadata": {},
   "outputs": [],
   "source": [
    "import pandas as pd\n",
    "import matplotlib.pyplot as plt\n",
    "import numpy as np\n",
    "import chardet"
   ]
  },
  {
   "cell_type": "code",
   "execution_count": 12,
   "id": "61517ee2",
   "metadata": {},
   "outputs": [
    {
     "name": "stdout",
     "output_type": "stream",
     "text": [
      "{'encoding': 'ISO-8859-1', 'confidence': 0.73, 'language': ''}\n"
     ]
    }
   ],
   "source": [
    "with open(\"../../Datasets+Data+Science+con+Python+-+Pandas/1.3/Info_pais.csv\",\"rb\") as file:\n",
    "    resultado = chardet.detect(file.read())\n",
    "print(resultado)"
   ]
  },
  {
   "cell_type": "code",
   "execution_count": 13,
   "id": "c6b59db6",
   "metadata": {},
   "outputs": [
    {
     "data": {
      "text/html": [
       "<div>\n",
       "<style scoped>\n",
       "    .dataframe tbody tr th:only-of-type {\n",
       "        vertical-align: middle;\n",
       "    }\n",
       "\n",
       "    .dataframe tbody tr th {\n",
       "        vertical-align: top;\n",
       "    }\n",
       "\n",
       "    .dataframe thead th {\n",
       "        text-align: right;\n",
       "    }\n",
       "</style>\n",
       "<table border=\"1\" class=\"dataframe\">\n",
       "  <thead>\n",
       "    <tr style=\"text-align: right;\">\n",
       "      <th></th>\n",
       "      <th>Poblacion</th>\n",
       "      <th>Renta per capita</th>\n",
       "      <th>Esperanza de vida</th>\n",
       "    </tr>\n",
       "    <tr>\n",
       "      <th>País</th>\n",
       "      <th></th>\n",
       "      <th></th>\n",
       "      <th></th>\n",
       "    </tr>\n",
       "  </thead>\n",
       "  <tbody>\n",
       "    <tr>\n",
       "      <th>United States</th>\n",
       "      <td>325084756</td>\n",
       "      <td>59939</td>\n",
       "      <td>78,9</td>\n",
       "    </tr>\n",
       "    <tr>\n",
       "      <th>China</th>\n",
       "      <td>1421021791</td>\n",
       "      <td>8612</td>\n",
       "      <td>76,7</td>\n",
       "    </tr>\n",
       "    <tr>\n",
       "      <th>Japan</th>\n",
       "      <td>127502725</td>\n",
       "      <td>38214</td>\n",
       "      <td>84,5</td>\n",
       "    </tr>\n",
       "    <tr>\n",
       "      <th>Germany</th>\n",
       "      <td>82658409</td>\n",
       "      <td>44680</td>\n",
       "      <td>81,2</td>\n",
       "    </tr>\n",
       "    <tr>\n",
       "      <th>India</th>\n",
       "      <td>1338676785</td>\n",
       "      <td>1980</td>\n",
       "      <td>69,4</td>\n",
       "    </tr>\n",
       "  </tbody>\n",
       "</table>\n",
       "</div>"
      ],
      "text/plain": [
       "                Poblacion  Renta per capita Esperanza de vida\n",
       "País                                                         \n",
       "United States   325084756             59939              78,9\n",
       "China          1421021791              8612              76,7\n",
       "Japan           127502725             38214              84,5\n",
       "Germany          82658409             44680              81,2\n",
       "India          1338676785              1980              69,4"
      ]
     },
     "execution_count": 13,
     "metadata": {},
     "output_type": "execute_result"
    }
   ],
   "source": [
    "data = pd.read_csv(\"../../Datasets+Data+Science+con+Python+-+Pandas/1.3/Info_pais.csv\", delimiter=\";\" , encoding=\"ISO-8859-1\" , nrows=5 , index_col=0)\n",
    "data"
   ]
  },
  {
   "cell_type": "code",
   "execution_count": null,
   "id": "390f5ecb",
   "metadata": {},
   "outputs": [
    {
     "data": {
      "text/html": [
       "<div>\n",
       "<style scoped>\n",
       "    .dataframe tbody tr th:only-of-type {\n",
       "        vertical-align: middle;\n",
       "    }\n",
       "\n",
       "    .dataframe tbody tr th {\n",
       "        vertical-align: top;\n",
       "    }\n",
       "\n",
       "    .dataframe thead th {\n",
       "        text-align: right;\n",
       "    }\n",
       "</style>\n",
       "<table border=\"1\" class=\"dataframe\">\n",
       "  <thead>\n",
       "    <tr style=\"text-align: right;\">\n",
       "      <th></th>\n",
       "      <th>Nombre</th>\n",
       "      <th>Edad</th>\n",
       "      <th>Celular</th>\n",
       "    </tr>\n",
       "  </thead>\n",
       "  <tbody>\n",
       "    <tr>\n",
       "      <th>0</th>\n",
       "      <td>a</td>\n",
       "      <td>15</td>\n",
       "      <td>21545</td>\n",
       "    </tr>\n",
       "    <tr>\n",
       "      <th>1</th>\n",
       "      <td>b</td>\n",
       "      <td>13</td>\n",
       "      <td>4545</td>\n",
       "    </tr>\n",
       "    <tr>\n",
       "      <th>2</th>\n",
       "      <td>c</td>\n",
       "      <td>56</td>\n",
       "      <td>545415</td>\n",
       "    </tr>\n",
       "    <tr>\n",
       "      <th>3</th>\n",
       "      <td>d</td>\n",
       "      <td>16</td>\n",
       "      <td>456456</td>\n",
       "    </tr>\n",
       "  </tbody>\n",
       "</table>\n",
       "</div>"
      ],
      "text/plain": [
       "  Nombre  Edad  Celular\n",
       "0      a    15    21545\n",
       "1      b    13     4545\n",
       "2      c    56   545415\n",
       "3      d    16   456456"
      ]
     },
     "execution_count": 15,
     "metadata": {},
     "output_type": "execute_result"
    }
   ],
   "source": [
    "data2 = pd.DataFrame(\n",
    "    {\n",
    "        \"Nombre\":[\"a\",\"b\",\"c\",\"d\"],\n",
    "        \"Edad\":[15,13,56,16],\n",
    "        \"Celular\":[21545,4545,545415,456456]\n",
    "    }\n",
    ")\n",
    "data2"
   ]
  },
  {
   "cell_type": "code",
   "execution_count": 21,
   "id": "6726e836",
   "metadata": {},
   "outputs": [
    {
     "data": {
      "text/html": [
       "<div>\n",
       "<style scoped>\n",
       "    .dataframe tbody tr th:only-of-type {\n",
       "        vertical-align: middle;\n",
       "    }\n",
       "\n",
       "    .dataframe tbody tr th {\n",
       "        vertical-align: top;\n",
       "    }\n",
       "\n",
       "    .dataframe thead th {\n",
       "        text-align: right;\n",
       "    }\n",
       "</style>\n",
       "<table border=\"1\" class=\"dataframe\">\n",
       "  <thead>\n",
       "    <tr style=\"text-align: right;\">\n",
       "      <th></th>\n",
       "      <th>Nombre</th>\n",
       "      <th>Edad</th>\n",
       "      <th>País</th>\n",
       "    </tr>\n",
       "  </thead>\n",
       "  <tbody>\n",
       "    <tr>\n",
       "      <th>0</th>\n",
       "      <td>Juan</td>\n",
       "      <td>30</td>\n",
       "      <td>México</td>\n",
       "    </tr>\n",
       "    <tr>\n",
       "      <th>1</th>\n",
       "      <td>Lucía</td>\n",
       "      <td>25</td>\n",
       "      <td>Argentina</td>\n",
       "    </tr>\n",
       "    <tr>\n",
       "      <th>2</th>\n",
       "      <td>Mario</td>\n",
       "      <td>35</td>\n",
       "      <td>Chile</td>\n",
       "    </tr>\n",
       "  </tbody>\n",
       "</table>\n",
       "</div>"
      ],
      "text/plain": [
       "  Nombre  Edad       País\n",
       "0   Juan    30     México\n",
       "1  Lucía    25  Argentina\n",
       "2  Mario    35      Chile"
      ]
     },
     "execution_count": 21,
     "metadata": {},
     "output_type": "execute_result"
    }
   ],
   "source": [
    "clasico=pd.DataFrame({\n",
    "    \"Nombre\":[\"Juan\", \"Lucía\", \"Mario\"],\n",
    "    \"Edad\": [30, 25, 35],\n",
    "    \"País\": [\"México\", \"Argentina\", \"Chile\"]\n",
    "    })\n",
    "clasico"
   ]
  },
  {
   "cell_type": "code",
   "execution_count": 22,
   "id": "1df73bee",
   "metadata": {},
   "outputs": [
    {
     "data": {
      "text/html": [
       "<div>\n",
       "<style scoped>\n",
       "    .dataframe tbody tr th:only-of-type {\n",
       "        vertical-align: middle;\n",
       "    }\n",
       "\n",
       "    .dataframe tbody tr th {\n",
       "        vertical-align: top;\n",
       "    }\n",
       "\n",
       "    .dataframe thead th {\n",
       "        text-align: right;\n",
       "    }\n",
       "</style>\n",
       "<table border=\"1\" class=\"dataframe\">\n",
       "  <thead>\n",
       "    <tr style=\"text-align: right;\">\n",
       "      <th></th>\n",
       "      <th>Nombre</th>\n",
       "      <th>Edad</th>\n",
       "      <th>País</th>\n",
       "    </tr>\n",
       "  </thead>\n",
       "  <tbody>\n",
       "    <tr>\n",
       "      <th>0</th>\n",
       "      <td>Juan</td>\n",
       "      <td>30</td>\n",
       "      <td>México</td>\n",
       "    </tr>\n",
       "    <tr>\n",
       "      <th>1</th>\n",
       "      <td>Lucía</td>\n",
       "      <td>25</td>\n",
       "      <td>Argentina</td>\n",
       "    </tr>\n",
       "    <tr>\n",
       "      <th>2</th>\n",
       "      <td>Mario</td>\n",
       "      <td>35</td>\n",
       "      <td>Chile</td>\n",
       "    </tr>\n",
       "  </tbody>\n",
       "</table>\n",
       "</div>"
      ],
      "text/plain": [
       "  Nombre  Edad       País\n",
       "0   Juan    30     México\n",
       "1  Lucía    25  Argentina\n",
       "2  Mario    35      Chile"
      ]
     },
     "execution_count": 22,
     "metadata": {},
     "output_type": "execute_result"
    }
   ],
   "source": [
    "nivel2 = pd.DataFrame([\n",
    "    {\"Nombre\": \"Juan\", \"Edad\": 30, \"País\": \"México\"},\n",
    "    {\"Nombre\": \"Lucía\", \"Edad\": 25, \"País\": \"Argentina\"},\n",
    "    {\"Nombre\": \"Mario\", \"Edad\": 35, \"País\": \"Chile\"}\n",
    "])\n",
    "nivel2"
   ]
  },
  {
   "cell_type": "code",
   "execution_count": 26,
   "id": "bfd4cb34",
   "metadata": {},
   "outputs": [
    {
     "data": {
      "text/html": [
       "<div>\n",
       "<style scoped>\n",
       "    .dataframe tbody tr th:only-of-type {\n",
       "        vertical-align: middle;\n",
       "    }\n",
       "\n",
       "    .dataframe tbody tr th {\n",
       "        vertical-align: top;\n",
       "    }\n",
       "\n",
       "    .dataframe thead th {\n",
       "        text-align: right;\n",
       "    }\n",
       "</style>\n",
       "<table border=\"1\" class=\"dataframe\">\n",
       "  <thead>\n",
       "    <tr style=\"text-align: right;\">\n",
       "      <th></th>\n",
       "      <th>Nombre</th>\n",
       "      <th>Edad</th>\n",
       "      <th>País</th>\n",
       "    </tr>\n",
       "  </thead>\n",
       "  <tbody>\n",
       "    <tr>\n",
       "      <th>0</th>\n",
       "      <td>a</td>\n",
       "      <td>152</td>\n",
       "      <td>c</td>\n",
       "    </tr>\n",
       "    <tr>\n",
       "      <th>1</th>\n",
       "      <td>a</td>\n",
       "      <td>154</td>\n",
       "      <td>c</td>\n",
       "    </tr>\n",
       "    <tr>\n",
       "      <th>2</th>\n",
       "      <td>a</td>\n",
       "      <td>16</td>\n",
       "      <td>c</td>\n",
       "    </tr>\n",
       "  </tbody>\n",
       "</table>\n",
       "</div>"
      ],
      "text/plain": [
       "  Nombre  Edad País\n",
       "0      a   152    c\n",
       "1      a   154    c\n",
       "2      a    16    c"
      ]
     },
     "execution_count": 26,
     "metadata": {},
     "output_type": "execute_result"
    }
   ],
   "source": [
    "nivel3=pd.DataFrame(\n",
    "    [\n",
    "        [\"a\",152,\"c\"],\n",
    "        [\"a\",154,\"c\"],\n",
    "        [\"a\",16,\"c\"]\n",
    "        \n",
    "    ]\n",
    "        ,columns=[\"Nombre\", \"Edad\", \"País\"]\n",
    "        \n",
    ")\n",
    "\n",
    "nivel3"
   ]
  },
  {
   "cell_type": "code",
   "execution_count": 27,
   "id": "e199cce5",
   "metadata": {},
   "outputs": [
    {
     "data": {
      "text/html": [
       "<div>\n",
       "<style scoped>\n",
       "    .dataframe tbody tr th:only-of-type {\n",
       "        vertical-align: middle;\n",
       "    }\n",
       "\n",
       "    .dataframe tbody tr th {\n",
       "        vertical-align: top;\n",
       "    }\n",
       "\n",
       "    .dataframe thead th {\n",
       "        text-align: right;\n",
       "    }\n",
       "</style>\n",
       "<table border=\"1\" class=\"dataframe\">\n",
       "  <thead>\n",
       "    <tr style=\"text-align: right;\">\n",
       "      <th></th>\n",
       "      <th>Nombre</th>\n",
       "      <th>Edad</th>\n",
       "    </tr>\n",
       "  </thead>\n",
       "  <tbody>\n",
       "    <tr>\n",
       "      <th>0</th>\n",
       "      <td>Ana</td>\n",
       "      <td>25</td>\n",
       "    </tr>\n",
       "    <tr>\n",
       "      <th>1</th>\n",
       "      <td>Luis</td>\n",
       "      <td>36</td>\n",
       "    </tr>\n",
       "    <tr>\n",
       "      <th>2</th>\n",
       "      <td>Sofía</td>\n",
       "      <td>39</td>\n",
       "    </tr>\n",
       "  </tbody>\n",
       "</table>\n",
       "</div>"
      ],
      "text/plain": [
       "  Nombre  Edad\n",
       "0    Ana    25\n",
       "1   Luis    36\n",
       "2  Sofía    39"
      ]
     },
     "execution_count": 27,
     "metadata": {},
     "output_type": "execute_result"
    }
   ],
   "source": [
    "nivel4 = pd.DataFrame({   \n",
    "    \"Nombre\":pd.Series([\"Ana\", \"Luis\", \"Sofía\"], index=[0,1,2]),\n",
    "    \"Edad\":pd.Series([25,36,39], index=[0,1,2])\n",
    "}\n",
    ")\n",
    "nivel4"
   ]
  },
  {
   "cell_type": "code",
   "execution_count": 34,
   "id": "b9c4adea",
   "metadata": {},
   "outputs": [
    {
     "data": {
      "text/html": [
       "<div>\n",
       "<style scoped>\n",
       "    .dataframe tbody tr th:only-of-type {\n",
       "        vertical-align: middle;\n",
       "    }\n",
       "\n",
       "    .dataframe tbody tr th {\n",
       "        vertical-align: top;\n",
       "    }\n",
       "\n",
       "    .dataframe thead th {\n",
       "        text-align: right;\n",
       "    }\n",
       "</style>\n",
       "<table border=\"1\" class=\"dataframe\">\n",
       "  <thead>\n",
       "    <tr style=\"text-align: right;\">\n",
       "      <th></th>\n",
       "      <th>Nombre</th>\n",
       "      <th>Edad</th>\n",
       "    </tr>\n",
       "  </thead>\n",
       "  <tbody>\n",
       "    <tr>\n",
       "      <th>0</th>\n",
       "      <td>Ana</td>\n",
       "      <td>25</td>\n",
       "    </tr>\n",
       "    <tr>\n",
       "      <th>1</th>\n",
       "      <td>Luis</td>\n",
       "      <td>36</td>\n",
       "    </tr>\n",
       "    <tr>\n",
       "      <th>2</th>\n",
       "      <td>Sofía</td>\n",
       "      <td>39</td>\n",
       "    </tr>\n",
       "  </tbody>\n",
       "</table>\n",
       "</div>"
      ],
      "text/plain": [
       "  Nombre Edad\n",
       "0    Ana   25\n",
       "1   Luis   36\n",
       "2  Sofía   39"
      ]
     },
     "execution_count": 34,
     "metadata": {},
     "output_type": "execute_result"
    }
   ],
   "source": [
    "import numpy as np\n",
    "naruto = np.array([\n",
    "    [\"Ana\", 25],\n",
    "    [\"Luis\", 36],\n",
    "    [\"Sofía\", 39]\n",
    "    ])\n",
    "\n",
    "nivel5 = pd.DataFrame(\n",
    "naruto,columns=[\"Nombre\", \"Edad\"])\n",
    "nivel5"
   ]
  },
  {
   "cell_type": "code",
   "execution_count": null,
   "id": "8492f6bc",
   "metadata": {},
   "outputs": [],
   "source": [
    "df_csv = pd.read_csv(\"archivo.csv\")\n",
    "df_excel = pd.read_excel(\"archivo.xlsx\")"
   ]
  },
  {
   "cell_type": "code",
   "execution_count": 35,
   "id": "d30931ab",
   "metadata": {},
   "outputs": [],
   "source": [
    "import pandas as pd\n",
    "\n",
    "# Datos para guardar en CSV\n",
    "data = {\n",
    "    \"Nombre\": [\"Ana\", \"Luis\", \"Sofía\", \"Miguel\"],\n",
    "    \"Edad\": [25, 36, 29, 40],\n",
    "    \"País\": [\"México\", \"Argentina\", \"Chile\", \"Perú\"],\n",
    "    \"Fecha\": [\"2023-01-01\", \"2023-02-15\", \"2023-03-20\", \"2023-04-05\"]\n",
    "}\n",
    "\n",
    "df = pd.DataFrame(data)\n",
    "df.to_csv(\"datos_ejemplo.csv\", index=False)\n"
   ]
  },
  {
   "cell_type": "code",
   "execution_count": 57,
   "id": "c4c7fd4d",
   "metadata": {},
   "outputs": [
    {
     "name": "stdout",
     "output_type": "stream",
     "text": [
      "{'encoding': 'utf-8', 'confidence': 0.938125, 'language': ''}\n"
     ]
    }
   ],
   "source": [
    "import chardet\n",
    "with open(\"datos_ejemplo.csv\",\"rb\") as file:\n",
    "    resultado = chardet.detect(file.read())\n",
    "\n",
    "print(resultado)"
   ]
  },
  {
   "cell_type": "code",
   "execution_count": 70,
   "id": "d1bd87a4",
   "metadata": {},
   "outputs": [],
   "source": [
    "with open(\"datos_ejemplo.csv\",\"r\") as file:\n",
    "    linea = file.readlines()"
   ]
  },
  {
   "cell_type": "code",
   "execution_count": 75,
   "id": "957baeb8",
   "metadata": {},
   "outputs": [
    {
     "name": "stdout",
     "output_type": "stream",
     "text": [
      "['Nombre', 'Edad', 'País', 'Fecha']\n",
      "**************************************************\n",
      "[['Ana', '25', 'México', '2023-01-01'], ['Luis', '36', 'Argentina', '2023-02-15'], ['Sofía', '29', 'Chile', '2023-03-20'], ['Miguel', '40', 'Perú', '2023-04-05']]\n",
      "**************************************************\n",
      "   Nombre Edad       País       Fecha\n",
      "0     Ana   25     México  2023-01-01\n",
      "1    Luis   36  Argentina  2023-02-15\n",
      "2   Sofía   29      Chile  2023-03-20\n",
      "3  Miguel   40       Perú  2023-04-05\n"
     ]
    }
   ],
   "source": [
    "\n",
    "columnas = linea[0].strip().split(\",\")\n",
    "print(columnas)\n",
    "print(\"*\"*50)\n",
    "datos = [linea.strip().split(\",\") for linea in linea[1:]]\n",
    "print(datos)\n",
    "print(\"*\"*50)\n",
    "df_manual = pd.DataFrame(datos, columns=columnas)\n",
    "\n",
    "print(df_manual)\n"
   ]
  },
  {
   "cell_type": "code",
   "execution_count": 60,
   "id": "2da6d988",
   "metadata": {},
   "outputs": [
    {
     "data": {
      "text/html": [
       "<div>\n",
       "<style scoped>\n",
       "    .dataframe tbody tr th:only-of-type {\n",
       "        vertical-align: middle;\n",
       "    }\n",
       "\n",
       "    .dataframe tbody tr th {\n",
       "        vertical-align: top;\n",
       "    }\n",
       "\n",
       "    .dataframe thead th {\n",
       "        text-align: right;\n",
       "    }\n",
       "</style>\n",
       "<table border=\"1\" class=\"dataframe\">\n",
       "  <thead>\n",
       "    <tr style=\"text-align: right;\">\n",
       "      <th></th>\n",
       "      <th>Nombre</th>\n",
       "      <th>Edad</th>\n",
       "      <th>Fecha</th>\n",
       "    </tr>\n",
       "    <tr>\n",
       "      <th>País</th>\n",
       "      <th></th>\n",
       "      <th></th>\n",
       "      <th></th>\n",
       "    </tr>\n",
       "  </thead>\n",
       "  <tbody>\n",
       "    <tr>\n",
       "      <th>México</th>\n",
       "      <td>Ana</td>\n",
       "      <td>25</td>\n",
       "      <td>2023-01-01</td>\n",
       "    </tr>\n",
       "    <tr>\n",
       "      <th>Argentina</th>\n",
       "      <td>Luis</td>\n",
       "      <td>36</td>\n",
       "      <td>2023-02-15</td>\n",
       "    </tr>\n",
       "    <tr>\n",
       "      <th>Chile</th>\n",
       "      <td>Sofía</td>\n",
       "      <td>29</td>\n",
       "      <td>2023-03-20</td>\n",
       "    </tr>\n",
       "    <tr>\n",
       "      <th>Perú</th>\n",
       "      <td>Miguel</td>\n",
       "      <td>40</td>\n",
       "      <td>2023-04-05</td>\n",
       "    </tr>\n",
       "  </tbody>\n",
       "</table>\n",
       "</div>"
      ],
      "text/plain": [
       "           Nombre  Edad      Fecha\n",
       "País                              \n",
       "México        Ana    25 2023-01-01\n",
       "Argentina    Luis    36 2023-02-15\n",
       "Chile       Sofía    29 2023-03-20\n",
       "Perú       Miguel    40 2023-04-05"
      ]
     },
     "execution_count": 60,
     "metadata": {},
     "output_type": "execute_result"
    }
   ],
   "source": [
    "df_leido = pd.read_csv(\"datos_ejemplo.csv\",\n",
    "    delimiter=\",\",\n",
    "    nrows=5,\n",
    "    usecols=[\"Nombre\",\"Edad\",\"País\",\"Fecha\"],\n",
    "    index_col=\"País\",\n",
    "    parse_dates=[\"Fecha\"],\n",
    "    encoding=\"utf-8\"\n",
    ")\n",
    "df_leido"
   ]
  },
  {
   "cell_type": "code",
   "execution_count": null,
   "id": "fd2c742c",
   "metadata": {},
   "outputs": [
    {
     "data": {
      "text/plain": [
       "['word1 ', ' word2 ', ' word3']"
      ]
     },
     "execution_count": 86,
     "metadata": {},
     "output_type": "execute_result"
    }
   ],
   "source": [
    "[x.strip() for x in \" apple, banana, cherry \".strip().split(\",\")]\n",
    "[x.strip() for x in \" red , green , blue \".strip().split(\",\")]\n",
    "\" dog , cat , mouse \".strip().split(\",\")\n",
    "\" John , Paul , George , Ringo \".strip().split(\",\")\n",
    "\" blue | yellow | pink \".strip().split(\"|\")\n",
    "import re\n",
    "re.split(\"[,|]\",\"a,b|c,d|e\")\n",
    "\" car , bike , bus \".strip().split(\",\")\n",
    "\" apple,banana,cherry \".strip().split(\" \")\n",
    "\" word1 , word2 , word3 \".strip().split(\",\")"
   ]
  }
 ],
 "metadata": {
  "kernelspec": {
   "display_name": "base",
   "language": "python",
   "name": "python3"
  },
  "language_info": {
   "codemirror_mode": {
    "name": "ipython",
    "version": 3
   },
   "file_extension": ".py",
   "mimetype": "text/x-python",
   "name": "python",
   "nbconvert_exporter": "python",
   "pygments_lexer": "ipython3",
   "version": "3.12.7"
  }
 },
 "nbformat": 4,
 "nbformat_minor": 5
}
